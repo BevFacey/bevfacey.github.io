{
 "cells": [
  {
   "attachments": {},
   "cell_type": "markdown",
   "metadata": {},
   "source": [
    "# Parse CSE File to Get Course List"
   ]
  },
  {
   "cell_type": "code",
   "execution_count": null,
   "metadata": {},
   "outputs": [],
   "source": [
    "import PyPDF2\n",
    "import pandas as pd\n",
    "\n",
    "course_type = 'CSE'\n",
    "pdfFileObj = open('ComputingScienceSummaries.pdf', 'rb')\n",
    "pdfReader = PyPDF2.PdfReader(pdfFileObj)\n",
    "  \n",
    "n_pages = len(pdfReader.pages)\n",
    "text = ''\n",
    "\n",
    "for n in range(n_pages):\n",
    "    pageObj = pdfReader.pages[n]\n",
    "    text += pageObj.extract_text()\n",
    "\n",
    "pdfFileObj.close()\n",
    "\n",
    "courses = {}\n",
    "use_next_line = False\n",
    "\n",
    "for i, line in enumerate(text.splitlines()):\n",
    "    if line.strip().startswith(course_type) and line[9] == ' ':\n",
    "        course = line.replace('  ', ' ').strip()\n",
    "    if '©' in line and course_type in line:\n",
    "        # 100 © Alberta Education, Alberta, Canada   Revised 2010  CSE2910:  CSE PROJECT B  \n",
    "        course = course_type + line.split(course_type)[1]\n",
    "        course = course.replace('  ', ' ').strip()\n",
    "    if 'Prerequ' in line:\n",
    "        preq = line.split(': ')[1].strip().replace(' ', '')\n",
    "        if 'None' in preq:\n",
    "            preq = ''\n",
    "        courses[course] = [preq]\n",
    "    if use_next_line:\n",
    "        #print('True', line)\n",
    "        preq2 = line.split(': ')[0].strip().replace(' ', '')\n",
    "        if len(preq2) != 0: # in case there is no prereq on this line\n",
    "            preq = preq + ',' + preq2\n",
    "        courses[course] = [preq]\n",
    "        use_next_line = False\n",
    "    if 'Prerequisites' in line:\n",
    "        #print('use next line', line)\n",
    "        #print(i, course, preq, '---', line)\n",
    "        use_next_line = True\n",
    "    #if '1120' in line:\n",
    "    #if '1010' in line:\n",
    "    #    print(i, use_next_line, line)\n",
    "cse = pd.DataFrame.from_dict(courses, orient='index', columns=['Prerequisites']).reset_index()\n",
    "cse.columns = ['Course', 'Prerequisites']\n",
    "cse"
   ]
  },
  {
   "cell_type": "code",
   "execution_count": null,
   "metadata": {},
   "outputs": [],
   "source": [
    "for i, line in enumerate(text.splitlines()):\n",
    "    if '©' in line:\n",
    "        print(i, line)"
   ]
  },
  {
   "cell_type": "code",
   "execution_count": null,
   "metadata": {},
   "outputs": [],
   "source": [
    "cse[cse['Prerequisites'].str.contains(course_type)]"
   ]
  },
  {
   "cell_type": "code",
   "execution_count": null,
   "metadata": {},
   "outputs": [],
   "source": [
    "cse[cse['Course'].str[3]=='3']"
   ]
  },
  {
   "cell_type": "code",
   "execution_count": null,
   "metadata": {},
   "outputs": [],
   "source": [
    "cse.to_csv(course_type+'.csv', index=False)"
   ]
  },
  {
   "attachments": {},
   "cell_type": "markdown",
   "metadata": {},
   "source": [
    "## Import from CSE.csv file"
   ]
  },
  {
   "cell_type": "code",
   "execution_count": null,
   "metadata": {},
   "outputs": [],
   "source": [
    "import pandas as pd\n",
    "cse = pd.read_csv('CSE.csv')\n",
    "#df.sort_values('Course', ascending=False)"
   ]
  },
  {
   "cell_type": "code",
   "execution_count": null,
   "metadata": {},
   "outputs": [],
   "source": [
    "# add graphviz to path\n",
    "import os\n",
    "\n",
    "# if it is Windows\n",
    "if os.name == 'nt':\n",
    "    os.environ[\"PATH\"] += os.pathsep + 'C:/Program Files/Graphviz/bin'"
   ]
  },
  {
   "cell_type": "code",
   "execution_count": null,
   "metadata": {},
   "outputs": [],
   "source": [
    "import graphviz\n",
    "\n",
    "dot = graphviz.Digraph(format='png') # or 'pdf' or 'svg'\n",
    "\n",
    "for row in cse.itertuples():\n",
    "    course_number = row.Course.split(':')[0]#[3:]\n",
    "    if '950' not in course_number:\n",
    "        if course_number[3] == '3':\n",
    "            #dot.node(course_number, shape='diamond')\n",
    "            shape = 'diamond'\n",
    "        elif course_number[3] == '2':\n",
    "            #dot.node(course_number, shape='ellipse')\n",
    "            shape = 'ellipse'\n",
    "        else:\n",
    "            #dot.node(course_number, shape='box')\n",
    "            shape = 'box'\n",
    "        \n",
    "        color = 'black'\n",
    "        if course_number[4] == '9':\n",
    "            color = 'red'\n",
    "\n",
    "        dot.node(course_number, shape=shape, color=color)\n",
    "        try:\n",
    "            if len(row.Prerequisites) > 3:\n",
    "                for preq in row.Prerequisites.split(','):\n",
    "                    preq_number = preq#[3:]\n",
    "                    dot.edge(preq_number, course_number)\n",
    "        except:\n",
    "            pass\n",
    "dot"
   ]
  },
  {
   "cell_type": "code",
   "execution_count": null,
   "metadata": {},
   "outputs": [],
   "source": [
    "# render the graph as a png\n",
    "file_string = '../images/CSE'\n",
    "dot.render(file_string)\n",
    "import os\n",
    "os.remove(file_string)"
   ]
  },
  {
   "attachments": {},
   "cell_type": "markdown",
   "metadata": {},
   "source": [
    "# NET Courses"
   ]
  },
  {
   "cell_type": "code",
   "execution_count": null,
   "metadata": {},
   "outputs": [],
   "source": [
    "import PyPDF2\n",
    "import pandas as pd\n",
    "\n",
    "course_type = 'NET'\n",
    "pdfFileObj = open('NetworkingSummary.pdf', 'rb')\n",
    "\n",
    "pdfReader = PyPDF2.PdfReader(pdfFileObj)\n",
    "n_pages = len(pdfReader.pages)\n",
    "text = ''\n",
    "for n in range(n_pages):\n",
    "    pageObj = pdfReader.pages[n]\n",
    "    text += pageObj.extract_text()\n",
    "pdfFileObj.close()\n",
    "\n",
    "courses = {}\n",
    "use_next_line = False\n",
    "\n",
    "for i, line in enumerate(text.splitlines()):\n",
    "    if line.strip().startswith(course_type):# and line[9] == ' ':\n",
    "        course = line.replace('  ', ' ').strip()\n",
    "        use_next_line = False\n",
    "    if '©' in line and course_type in line and ':' in line:\n",
    "        course = line.split(':')[0].strip().split(' ')[-1] + ':' + line.split(':')[1].strip()\n",
    "        use_next_line = False\n",
    "    if 'Prerequ' in line:\n",
    "        try:\n",
    "            preq = line.split(':')[1].strip().replace(' ', '')\n",
    "        except:\n",
    "            preq = ''\n",
    "        if 'None' in preq:\n",
    "            preq = ''\n",
    "        courses[course] = [preq]\n",
    "    if use_next_line:\n",
    "        preq2 = line.split(': ')[0].strip().replace(' ', '')\n",
    "        if len(preq2) != 0: # in case there is no prereq on this line\n",
    "            preq = preq + ',' + preq2\n",
    "        courses[course] = [preq]\n",
    "    if 'Prerequisites' in line:\n",
    "        use_next_line = True\n",
    "net = pd.DataFrame.from_dict(courses, orient='index', columns=['Prerequisites']).reset_index()\n",
    "net.columns = ['Course', 'Prerequisites']\n",
    "net"
   ]
  },
  {
   "cell_type": "code",
   "execution_count": null,
   "metadata": {},
   "outputs": [],
   "source": [
    "net['Prerequisites'] = net['Prerequisites'].str.replace('NET2030','NET2030,NET2040,NET2050,NET2060,NET2070')"
   ]
  },
  {
   "cell_type": "code",
   "execution_count": null,
   "metadata": {},
   "outputs": [],
   "source": [
    "net[net['Prerequisites'].str.contains(course_type)]"
   ]
  },
  {
   "cell_type": "code",
   "execution_count": null,
   "metadata": {},
   "outputs": [],
   "source": [
    "net.to_csv(course_type+'.csv', index=False)"
   ]
  },
  {
   "attachments": {},
   "cell_type": "markdown",
   "metadata": {},
   "source": [
    "## Read from NET.csv"
   ]
  },
  {
   "cell_type": "code",
   "execution_count": null,
   "metadata": {},
   "outputs": [],
   "source": [
    "net = pd.read_csv('NET.csv')"
   ]
  },
  {
   "cell_type": "code",
   "execution_count": null,
   "metadata": {},
   "outputs": [],
   "source": [
    "import graphviz\n",
    "dot = graphviz.Digraph(format='png') # or 'pdf' or 'svg'\n",
    "\n",
    "for row in net.itertuples():\n",
    "    course_number = row.Course.split(':')[0]\n",
    "    if '950' not in course_number:\n",
    "        if course_number[3] == '3':\n",
    "            shape = 'diamond'\n",
    "        elif course_number[3] == '2':\n",
    "            shape = 'ellipse'\n",
    "        else:\n",
    "            shape = 'box'\n",
    "\n",
    "        color = 'black'\n",
    "        if course_number[4] == '9':\n",
    "            color = 'red'\n",
    "\n",
    "        dot.node(course_number, shape=shape, color=color)#, fontcolor='blue')\n",
    "        try:\n",
    "            if row.Prerequisites != '':\n",
    "                for preq in row.Prerequisites.split(','):\n",
    "                    dot.edge(preq, course_number)\n",
    "        except:\n",
    "            pass\n",
    "dot"
   ]
  },
  {
   "cell_type": "code",
   "execution_count": null,
   "metadata": {},
   "outputs": [],
   "source": [
    "# render the graph as a png\n",
    "file_string = '../images/NET'\n",
    "dot.render(file_string)\n",
    "import os\n",
    "os.remove(file_string)"
   ]
  },
  {
   "attachments": {},
   "cell_type": "markdown",
   "metadata": {},
   "source": [
    "# ELT Courses"
   ]
  },
  {
   "cell_type": "code",
   "execution_count": null,
   "metadata": {},
   "outputs": [],
   "source": [
    "import PyPDF2\n",
    "import pandas as pd\n",
    "\n",
    "course_type = 'ELT'\n",
    "pdfFileObj = open('ElectroTechnologiesSummaries.pdf', 'rb')\n",
    "\n",
    "pdfReader = PyPDF2.PdfReader(pdfFileObj)\n",
    "n_pages = len(pdfReader.pages)\n",
    "text = ''\n",
    "for n in range(n_pages):\n",
    "    pageObj = pdfReader.pages[n]\n",
    "    text += pageObj.extract_text()\n",
    "pdfFileObj.close()\n",
    "\n",
    "courses = {}\n",
    "use_next_line = False\n",
    "\n",
    "for i, line in enumerate(text.splitlines()):\n",
    "    if line.strip().startswith(course_type):# and line[9] == ' ':\n",
    "        course = line.replace('  ', ' ').strip()\n",
    "        use_next_line = False\n",
    "    if '©' in line and course_type in line and ':' in line:\n",
    "        course = line.split(':')[0].strip().split(' ')[-1] + ':' + line.split(':')[1].strip()\n",
    "        use_next_line = False\n",
    "    if 'Prerequ' in line:\n",
    "        try:\n",
    "            preq = line.split(':')[1].strip().replace(' ', '')\n",
    "        except:\n",
    "            preq = ''\n",
    "        if 'None' in preq:\n",
    "            preq = ''\n",
    "        courses[course] = [preq]\n",
    "    if use_next_line:\n",
    "        preq2 = line.split(': ')[0].strip().replace(' ', '')\n",
    "        if len(preq2) != 0: # in case there is no prereq on this line\n",
    "            preq = preq + ',' + preq2\n",
    "        courses[course] = [preq]\n",
    "    if 'Prerequisites' in line:\n",
    "        use_next_line = True\n",
    "elt = pd.DataFrame.from_dict(courses, orient='index', columns=['Prerequisites']).reset_index()\n",
    "elt.columns = ['Course', 'Prerequisites']\n",
    "elt"
   ]
  },
  {
   "cell_type": "code",
   "execution_count": null,
   "metadata": {},
   "outputs": [],
   "source": [
    "elt.to_csv(course_type+'.csv', index=False)"
   ]
  },
  {
   "attachments": {},
   "cell_type": "markdown",
   "metadata": {},
   "source": [
    "## Read from ELT.csv"
   ]
  },
  {
   "cell_type": "code",
   "execution_count": null,
   "metadata": {},
   "outputs": [],
   "source": [
    "import pandas as pd\n",
    "elt = pd.read_csv('ELT.csv')"
   ]
  },
  {
   "cell_type": "code",
   "execution_count": null,
   "metadata": {},
   "outputs": [],
   "source": [
    "recommended = ['1010','1130','1140','2010','2140','2160','2240','2170','3170','3150','3180','3190','3200','1910','2910','2920','3910','3920']\n",
    "design_courses = ['DES1020','DES1040','DES2045']\n",
    "\n",
    "import graphviz\n",
    "dot = graphviz.Digraph(format='png') # or 'pdf' or 'svg'\n",
    "\n",
    "for course_number in design_courses:\n",
    "    if course_number[3] == '3':\n",
    "        shape = 'diamond'\n",
    "    elif course_number[3] == '2':\n",
    "        shape = 'ellipse'\n",
    "    else:\n",
    "        shape = 'box'\n",
    "    color = 'black'\n",
    "    fontcolor = 'grey'\n",
    "    dot.node(course_number, shape=shape, color=color, fontcolor=fontcolor)\n",
    "    try:\n",
    "        dot.edge(previous_course, course_number)\n",
    "    except:\n",
    "        pass\n",
    "    previous_course = course_number\n",
    "\n",
    "for row in elt.itertuples():\n",
    "    course_number = row.Course.split(':')[0]\n",
    "    if '950' not in course_number:\n",
    "        if course_number[3:] in recommended:\n",
    "            if course_number[3] == '3':\n",
    "                shape = 'diamond'\n",
    "            elif course_number[3] == '2':\n",
    "                shape = 'ellipse'\n",
    "            else:\n",
    "                shape = 'box'\n",
    "\n",
    "            fontcolor = 'black'\n",
    "\n",
    "            color = 'black'\n",
    "            if course_number[4] == '9':\n",
    "                color = 'red'\n",
    "            dot.node(course_number, shape=shape, color=color, fontcolor=fontcolor)\n",
    "\n",
    "        try:\n",
    "            if row.Prerequisites != '':\n",
    "                for preq in row.Prerequisites.split(','):\n",
    "                    if preq[3:] in recommended:\n",
    "                        dot.edge(preq, course_number)\n",
    "        except:\n",
    "            pass\n",
    "dot"
   ]
  },
  {
   "cell_type": "code",
   "execution_count": null,
   "metadata": {},
   "outputs": [],
   "source": [
    "# render the graph as a png\n",
    "file_string = '../images/ELT'\n",
    "dot.render(file_string)\n",
    "import os\n",
    "os.remove(file_string)"
   ]
  },
  {
   "attachments": {},
   "cell_type": "markdown",
   "metadata": {},
   "source": [
    "# Combining All Together"
   ]
  },
  {
   "cell_type": "code",
   "execution_count": null,
   "metadata": {},
   "outputs": [],
   "source": [
    "import pandas as pd\n",
    "\n",
    "c = pd.read_csv('CSE.csv').fillna('')\n",
    "n = pd.read_csv('NET.csv').fillna('')\n",
    "e = pd.read_csv('ELT.csv').fillna('')\n",
    "\n",
    "# removed unused ELT courses\n",
    "recommended = ['1010','1130','1140','1910','2010','2140','2160','2240','2170','2910','2920','3170','3150','3180','3190','3200','3910','3920']\n",
    "elt_recommended_list = ['ELT' + x for x in recommended]\n",
    "e = e[e['Course'].str[:7].isin(elt_recommended_list)]\n",
    "\n",
    "design_courses = {'DES1020: THE DESIGN PROCESS':'','DES1040: 3-D DESIGN 1':'DES1020','DES2045: 3-D DESIGN 2':'DES1040'}\n",
    "d = pd.DataFrame.from_dict(design_courses, orient='index', columns=['Prerequisites']).reset_index()\n",
    "d.columns = ['Course', 'Prerequisites']\n",
    "\n",
    "df = pd.concat([c,e,n,d])\n",
    "df.reset_index(drop=True, inplace=True)\n",
    "\n",
    "# split column to course code and course name\n",
    "df['Course Number'] = df['Course'].str.split(':').str[0].str.strip()\n",
    "df['Course Name'] = df['Course'].str.split(':').str[1].str.strip()\n",
    "df"
   ]
  },
  {
   "cell_type": "code",
   "execution_count": null,
   "metadata": {},
   "outputs": [],
   "source": [
    "import graphviz\n",
    "\n",
    "def coursesVisualized(filtered_df):\n",
    "    dot = graphviz.Digraph(format='png') # or 'pdf' or 'svg'\n",
    "    for row in filtered_df.itertuples():\n",
    "        course_number = row.Course.split(':')[0]\n",
    "\n",
    "        if course_number[3] == '3':\n",
    "            shape = 'diamond'\n",
    "        elif course_number[3] == '2':\n",
    "            shape = 'ellipse'\n",
    "        else:\n",
    "            shape = 'box'\n",
    "\n",
    "        fontcolor = 'black'\n",
    "        color = 'black'\n",
    "        #if course_number[4] == '9': # project courses\n",
    "        #    color = 'red'\n",
    "        dot.node(course_number, shape=shape, color=color, fontcolor=fontcolor)\n",
    "\n",
    "        try:\n",
    "            if row.Prerequisites != '':\n",
    "                for preq in row.Prerequisites.split(','):\n",
    "                    dot.edge(preq, course_number)\n",
    "        except:\n",
    "            pass\n",
    "    display(dot)\n",
    "\n",
    "\n",
    "coursesVisualized(df[df['Course Number'].str.contains('CSE')])\n",
    "\n",
    "coursesVisualized(df[df['Course Number'].str.contains('DES') | df['Course Number'].str.contains('ELT')].sort_values(by='Course Number'))\n",
    "\n",
    "coursesVisualized(df[df['Course Number'].str.contains('NET')])"
   ]
  },
  {
   "cell_type": "code",
   "execution_count": null,
   "metadata": {},
   "outputs": [],
   "source": []
  },
  {
   "cell_type": "code",
   "execution_count": null,
   "metadata": {},
   "outputs": [],
   "source": []
  },
  {
   "cell_type": "code",
   "execution_count": null,
   "metadata": {},
   "outputs": [],
   "source": []
  },
  {
   "cell_type": "code",
   "execution_count": null,
   "metadata": {},
   "outputs": [],
   "source": [
    "'''\n",
    "#completed = ['CSE1010']\n",
    "completed = []\n",
    "\n",
    "import graphviz\n",
    "dot = graphviz.Graph()\n",
    "\n",
    "for row in elt.itertuples():\n",
    "    course_number = row.Course\n",
    "    if '950' not in course_number:\n",
    "        if course_number in completed:\n",
    "            color = 'red'\n",
    "        else:\n",
    "            color = 'black'\n",
    "        if course_number[3] == '3':\n",
    "            d = dot.node(course_number, shape='diamond',color=color)\n",
    "            #d.attr('node', color='blue')\n",
    "        else:\n",
    "            d = dot.node(course_number, shape='box',color=color)\n",
    "        \n",
    "        if row.Prerequisites != '':\n",
    "            for preq in row.Prerequisites.split(','):\n",
    "                dot.edge(preq, course_number)\n",
    "\n",
    "#dot.attr('graph', ratio='compress')\n",
    "#dot.attr('graph', ratio='0.5')\n",
    "#dot.attr('graph', size='80,80')\n",
    "#dot.attr('graph', ratio='1.5')\n",
    "#dot.attr('graph', layout='neato', defaultdist='2.0', overlap='false', splines='true', sep='+2.0', nodesep='0.5', ranksep='0.5', concentrate='true', size='8,8', ratio='0.5', orientation='landscape')\n",
    "dot.attr('graph', layout='neato', pack='false', defaultdist='800')\n",
    "#dot.attr('graph', orientation='landscape')\n",
    "dot\n",
    "'''"
   ]
  },
  {
   "cell_type": "code",
   "execution_count": null,
   "metadata": {},
   "outputs": [],
   "source": [
    "# search through all .md files in the current directory for the string 'goals' and print the filename and line number\n",
    "'''\n",
    "import os\n",
    "for root, dirs, files in os.walk(\"..\"):\n",
    "    for filename in files:\n",
    "        if filename.endswith(\".md\"):\n",
    "            with open(os.path.join(root, filename), encoding='latin1') as f:\n",
    "                for i, line in enumerate(f):\n",
    "                    if 'goals' in line:\n",
    "                        print(os.path.join(root, filename), i, line)\n",
    "'''"
   ]
  }
 ],
 "metadata": {
  "kernelspec": {
   "display_name": "Python 3",
   "language": "python",
   "name": "python3"
  },
  "language_info": {
   "codemirror_mode": {
    "name": "ipython",
    "version": 3
   },
   "file_extension": ".py",
   "mimetype": "text/x-python",
   "name": "python",
   "nbconvert_exporter": "python",
   "pygments_lexer": "ipython3",
   "version": "3.10.6"
  },
  "orig_nbformat": 4,
  "vscode": {
   "interpreter": {
    "hash": "916dbcbb3f70747c44a77c7bcd40155683ae19c65e1c03b4aa3499c5328201f1"
   }
  }
 },
 "nbformat": 4,
 "nbformat_minor": 2
}
