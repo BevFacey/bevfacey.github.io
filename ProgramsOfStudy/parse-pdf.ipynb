{
 "cells": [
  {
   "attachments": {},
   "cell_type": "markdown",
   "metadata": {},
   "source": [
    "# Parse CSE File to Get Course List"
   ]
  },
  {
   "cell_type": "code",
   "execution_count": null,
   "metadata": {},
   "outputs": [],
   "source": [
    "import PyPDF2\n",
    "import pandas as pd\n",
    "\n",
    "course_type = 'CSE'\n",
    "pdfFileObj = open('ComputingScienceSummaries.pdf', 'rb')\n",
    "pdfReader = PyPDF2.PdfReader(pdfFileObj)\n",
    "  \n",
    "n_pages = len(pdfReader.pages)\n",
    "text = ''\n",
    "\n",
    "for n in range(n_pages):\n",
    "    pageObj = pdfReader.pages[n]\n",
    "    text += pageObj.extract_text()\n",
    "\n",
    "pdfFileObj.close()\n",
    "\n",
    "courses = {}\n",
    "use_next_line = False\n",
    "\n",
    "for i, line in enumerate(text.splitlines()):\n",
    "    if line.strip().startswith(course_type) and line[9] == ' ':\n",
    "        course = line.replace('  ', ' ').strip()\n",
    "    if '©' in line and course_type in line:\n",
    "        # 100 © Alberta Education, Alberta, Canada   Revised 2010  CSE2910:  CSE PROJECT B  \n",
    "        course = course_type + line.split(course_type)[1]\n",
    "        course = course.replace('  ', ' ').strip()\n",
    "    if 'Prerequ' in line:\n",
    "        preq = line.split(': ')[1].strip().replace(' ', '')\n",
    "        if 'None' in preq:\n",
    "            preq = ''\n",
    "        courses[course] = [preq]\n",
    "    if use_next_line:\n",
    "        #print('True', line)\n",
    "        preq2 = line.split(': ')[0].strip().replace(' ', '')\n",
    "        if len(preq2) != 0: # in case there is no prereq on this line\n",
    "            preq = preq + ',' + preq2\n",
    "        courses[course] = [preq]\n",
    "        use_next_line = False\n",
    "    if 'Prerequisites' in line:\n",
    "        #print('use next line', line)\n",
    "        #print(i, course, preq, '---', line)\n",
    "        use_next_line = True\n",
    "    #if '1120' in line:\n",
    "    #if '1010' in line:\n",
    "    #    print(i, use_next_line, line)\n",
    "df = pd.DataFrame.from_dict(courses, orient='index', columns=['Prerequisites']).reset_index()\n",
    "df.columns = ['Course', 'Prerequisites']\n",
    "df"
   ]
  },
  {
   "cell_type": "code",
   "execution_count": null,
   "metadata": {},
   "outputs": [],
   "source": [
    "for i, line in enumerate(text.splitlines()):\n",
    "    if '©' in line:\n",
    "        print(i, line)"
   ]
  },
  {
   "cell_type": "code",
   "execution_count": null,
   "metadata": {},
   "outputs": [],
   "source": [
    "df[df['Prerequisites'].str.contains(course_type)]"
   ]
  },
  {
   "cell_type": "code",
   "execution_count": null,
   "metadata": {},
   "outputs": [],
   "source": [
    "df[df['Course'].str[3]=='3']"
   ]
  },
  {
   "cell_type": "code",
   "execution_count": null,
   "metadata": {},
   "outputs": [],
   "source": [
    "df.to_csv(course_type+'.csv', index=False)"
   ]
  },
  {
   "cell_type": "code",
   "execution_count": null,
   "metadata": {},
   "outputs": [],
   "source": [
    "import graphviz\n",
    "dot = graphviz.Digraph()\n",
    "\n",
    "for row in df.itertuples():\n",
    "    course_number = row.Course.split(':')[0]\n",
    "    if '950' not in course_number:\n",
    "        if course_number[3] == '3':\n",
    "            dot.node(course_number, shape='diamond')\n",
    "        else:\n",
    "            dot.node(course_number, shape='box')\n",
    "        if row.Prerequisites != '':\n",
    "            for preq in row.Prerequisites.split(','):\n",
    "                dot.edge(preq, course_number)\n",
    "\n",
    "dot"
   ]
  },
  {
   "cell_type": "code",
   "execution_count": null,
   "metadata": {},
   "outputs": [],
   "source": [
    "# save the output to a file\n",
    "dot.render(course_type, view=True)\n",
    "import os\n",
    "# delete file\n",
    "os.remove(course_type)"
   ]
  },
  {
   "attachments": {},
   "cell_type": "markdown",
   "metadata": {},
   "source": [
    "# NET Courses"
   ]
  },
  {
   "cell_type": "code",
   "execution_count": null,
   "metadata": {},
   "outputs": [],
   "source": [
    "import PyPDF2\n",
    "import pandas as pd\n",
    "\n",
    "course_type = 'NET'\n",
    "pdfFileObj = open('NetworkingSummary.pdf', 'rb')\n",
    "\n",
    "pdfReader = PyPDF2.PdfReader(pdfFileObj)\n",
    "n_pages = len(pdfReader.pages)\n",
    "text = ''\n",
    "for n in range(n_pages):\n",
    "    pageObj = pdfReader.pages[n]\n",
    "    text += pageObj.extract_text()\n",
    "pdfFileObj.close()\n",
    "\n",
    "courses = {}\n",
    "use_next_line = False\n",
    "\n",
    "for i, line in enumerate(text.splitlines()):\n",
    "    if line.strip().startswith(course_type):# and line[9] == ' ':\n",
    "        course = line.replace('  ', ' ').strip()\n",
    "        use_next_line = False\n",
    "    if '©' in line and course_type in line and ':' in line:\n",
    "        course = line.split(':')[0].strip().split(' ')[-1] + ':' + line.split(':')[1].strip()\n",
    "        use_next_line = False\n",
    "    if 'Prerequ' in line:\n",
    "        try:\n",
    "            preq = line.split(':')[1].strip().replace(' ', '')\n",
    "        except:\n",
    "            preq = ''\n",
    "        if 'None' in preq:\n",
    "            preq = ''\n",
    "        courses[course] = [preq]\n",
    "    if use_next_line:\n",
    "        preq2 = line.split(': ')[0].strip().replace(' ', '')\n",
    "        if len(preq2) != 0: # in case there is no prereq on this line\n",
    "            preq = preq + ',' + preq2\n",
    "        courses[course] = [preq]\n",
    "    if 'Prerequisites' in line:\n",
    "        use_next_line = True\n",
    "df = pd.DataFrame.from_dict(courses, orient='index', columns=['Prerequisites']).reset_index()\n",
    "df.columns = ['Course', 'Prerequisites']\n",
    "df"
   ]
  },
  {
   "cell_type": "code",
   "execution_count": null,
   "metadata": {},
   "outputs": [],
   "source": [
    "df['Prerequisites'] = df['Prerequisites'].str.replace('NET2030','NET2030,NET2040,NET2050,NET2060,NET2070')"
   ]
  },
  {
   "cell_type": "code",
   "execution_count": null,
   "metadata": {},
   "outputs": [],
   "source": [
    "df[df['Prerequisites'].str.contains(course_type)]"
   ]
  },
  {
   "cell_type": "code",
   "execution_count": null,
   "metadata": {},
   "outputs": [],
   "source": [
    "df.to_csv(course_type+'.csv', index=False)"
   ]
  },
  {
   "cell_type": "code",
   "execution_count": null,
   "metadata": {},
   "outputs": [],
   "source": [
    "import graphviz\n",
    "dot = graphviz.Digraph()\n",
    "\n",
    "for row in df.itertuples():\n",
    "    course_number = row.Course.split(':')[0]\n",
    "    if '950' not in course_number:\n",
    "        if course_number[3] == '3':\n",
    "            dot.node(course_number, shape='diamond')\n",
    "        else:\n",
    "            dot.node(course_number, shape='box')\n",
    "        if row.Prerequisites != '':\n",
    "            for preq in row.Prerequisites.split(','):\n",
    "                dot.edge(preq, course_number)\n",
    "\n",
    "dot"
   ]
  },
  {
   "cell_type": "code",
   "execution_count": null,
   "metadata": {},
   "outputs": [],
   "source": [
    "# save the output to a file\n",
    "dot.render(course_type, view=True)\n",
    "import os\n",
    "# delete file\n",
    "os.remove(course_type)"
   ]
  },
  {
   "attachments": {},
   "cell_type": "markdown",
   "metadata": {},
   "source": [
    "# ELT Courses"
   ]
  },
  {
   "cell_type": "code",
   "execution_count": null,
   "metadata": {},
   "outputs": [],
   "source": [
    "import PyPDF2\n",
    "import pandas as pd\n",
    "\n",
    "course_type = 'ELT'\n",
    "pdfFileObj = open('ElectroTechnologiesSummaries.pdf', 'rb')\n",
    "\n",
    "pdfReader = PyPDF2.PdfReader(pdfFileObj)\n",
    "n_pages = len(pdfReader.pages)\n",
    "text = ''\n",
    "for n in range(n_pages):\n",
    "    pageObj = pdfReader.pages[n]\n",
    "    text += pageObj.extract_text()\n",
    "pdfFileObj.close()\n",
    "\n",
    "courses = {}\n",
    "use_next_line = False\n",
    "\n",
    "for i, line in enumerate(text.splitlines()):\n",
    "    if line.strip().startswith(course_type):# and line[9] == ' ':\n",
    "        course = line.replace('  ', ' ').strip()\n",
    "        use_next_line = False\n",
    "    if '©' in line and course_type in line and ':' in line:\n",
    "        course = line.split(':')[0].strip().split(' ')[-1] + ':' + line.split(':')[1].strip()\n",
    "        use_next_line = False\n",
    "    if 'Prerequ' in line:\n",
    "        try:\n",
    "            preq = line.split(':')[1].strip().replace(' ', '')\n",
    "        except:\n",
    "            preq = ''\n",
    "        if 'None' in preq:\n",
    "            preq = ''\n",
    "        courses[course] = [preq]\n",
    "    if use_next_line:\n",
    "        preq2 = line.split(': ')[0].strip().replace(' ', '')\n",
    "        if len(preq2) != 0: # in case there is no prereq on this line\n",
    "            preq = preq + ',' + preq2\n",
    "        courses[course] = [preq]\n",
    "    if 'Prerequisites' in line:\n",
    "        use_next_line = True\n",
    "df = pd.DataFrame.from_dict(courses, orient='index', columns=['Prerequisites']).reset_index()\n",
    "df.columns = ['Course', 'Prerequisites']\n",
    "df"
   ]
  },
  {
   "cell_type": "code",
   "execution_count": null,
   "metadata": {},
   "outputs": [],
   "source": [
    "df.to_csv(course_type+'.csv', index=False)"
   ]
  },
  {
   "cell_type": "code",
   "execution_count": null,
   "metadata": {},
   "outputs": [],
   "source": [
    "recommended = ['1010','1130','1140','2010','2140','2160','2240','2170','3170','3150','3180','3190','3200']\n",
    "\n",
    "import graphviz\n",
    "dot = graphviz.Digraph()\n",
    "\n",
    "for row in df.itertuples():\n",
    "    course_number = row.Course.split(':')[0]\n",
    "    if '950' not in course_number:\n",
    "        if course_number[3:] in recommended:\n",
    "            color = 'red'\n",
    "        else:\n",
    "            color = 'black'\n",
    "        if course_number[3] == '3':\n",
    "            d = dot.node(course_number, shape='diamond',color=color)\n",
    "            #d.attr('node', color='blue')\n",
    "        else:\n",
    "            d = dot.node(course_number, shape='box',color=color)\n",
    "        \n",
    "        if row.Prerequisites != '':\n",
    "            for preq in row.Prerequisites.split(','):\n",
    "                dot.edge(preq, course_number)\n",
    "\n",
    "dot"
   ]
  },
  {
   "cell_type": "code",
   "execution_count": null,
   "metadata": {},
   "outputs": [],
   "source": [
    "# save the output to a file\n",
    "dot.render(course_type, view=True)\n",
    "import os\n",
    "# delete file\n",
    "os.remove(course_type)"
   ]
  },
  {
   "attachments": {},
   "cell_type": "markdown",
   "metadata": {},
   "source": [
    "# Combining All Together"
   ]
  },
  {
   "cell_type": "code",
   "execution_count": 4,
   "metadata": {},
   "outputs": [
    {
     "data": {
      "text/html": [
       "<div>\n",
       "<style scoped>\n",
       "    .dataframe tbody tr th:only-of-type {\n",
       "        vertical-align: middle;\n",
       "    }\n",
       "\n",
       "    .dataframe tbody tr th {\n",
       "        vertical-align: top;\n",
       "    }\n",
       "\n",
       "    .dataframe thead th {\n",
       "        text-align: right;\n",
       "    }\n",
       "</style>\n",
       "<table border=\"1\" class=\"dataframe\">\n",
       "  <thead>\n",
       "    <tr style=\"text-align: right;\">\n",
       "      <th></th>\n",
       "      <th>Course</th>\n",
       "      <th>Prerequisites</th>\n",
       "      <th>Course Number</th>\n",
       "      <th>Course Name</th>\n",
       "    </tr>\n",
       "  </thead>\n",
       "  <tbody>\n",
       "    <tr>\n",
       "      <th>0</th>\n",
       "      <td>CSE1010: COMPUTER SCIENCE 1</td>\n",
       "      <td></td>\n",
       "      <td>CSE1010</td>\n",
       "      <td>COMPUTER SCIENCE 1</td>\n",
       "    </tr>\n",
       "    <tr>\n",
       "      <th>1</th>\n",
       "      <td>CSE1110: STRUCTURED PROGRAMMING 1</td>\n",
       "      <td></td>\n",
       "      <td>CSE1110</td>\n",
       "      <td>STRUCTURED PROGRAMMING 1</td>\n",
       "    </tr>\n",
       "    <tr>\n",
       "      <th>2</th>\n",
       "      <td>CSE1120: STRUCTURED PROGRAMMING 2</td>\n",
       "      <td>CSE1110</td>\n",
       "      <td>CSE1120</td>\n",
       "      <td>STRUCTURED PROGRAMMING 2</td>\n",
       "    </tr>\n",
       "    <tr>\n",
       "      <th>3</th>\n",
       "      <td>CSE1210: CLIENT -SIDE SCRIPTING 1</td>\n",
       "      <td></td>\n",
       "      <td>CSE1210</td>\n",
       "      <td>CLIENT -SIDE SCRIPTING 1</td>\n",
       "    </tr>\n",
       "    <tr>\n",
       "      <th>4</th>\n",
       "      <td>CSE1220: CLIENT -SIDE SCRIPTING 2</td>\n",
       "      <td></td>\n",
       "      <td>CSE1220</td>\n",
       "      <td>CLIENT -SIDE SCRIPTING 2</td>\n",
       "    </tr>\n",
       "    <tr>\n",
       "      <th>...</th>\n",
       "      <td>...</td>\n",
       "      <td>...</td>\n",
       "      <td>...</td>\n",
       "      <td>...</td>\n",
       "    </tr>\n",
       "    <tr>\n",
       "      <th>69</th>\n",
       "      <td>NET3910: NET PROJECT D</td>\n",
       "      <td></td>\n",
       "      <td>NET3910</td>\n",
       "      <td>NET PROJECT D</td>\n",
       "    </tr>\n",
       "    <tr>\n",
       "      <th>70</th>\n",
       "      <td>NET3920:NET PROJECT E</td>\n",
       "      <td></td>\n",
       "      <td>NET3920</td>\n",
       "      <td>NET PROJECT E</td>\n",
       "    </tr>\n",
       "    <tr>\n",
       "      <th>71</th>\n",
       "      <td>NET3950: NET ADVANCED PRACTICUM</td>\n",
       "      <td></td>\n",
       "      <td>NET3950</td>\n",
       "      <td>NET ADVANCED PRACTICUM</td>\n",
       "    </tr>\n",
       "    <tr>\n",
       "      <th>72</th>\n",
       "      <td>DES1020: THE DESIGN PROCESS</td>\n",
       "      <td></td>\n",
       "      <td>DES1020</td>\n",
       "      <td>THE DESIGN PROCESS</td>\n",
       "    </tr>\n",
       "    <tr>\n",
       "      <th>73</th>\n",
       "      <td>DES1040: 3-D DESIGN 1</td>\n",
       "      <td>DES1020</td>\n",
       "      <td>DES1040</td>\n",
       "      <td>3-D DESIGN 1</td>\n",
       "    </tr>\n",
       "  </tbody>\n",
       "</table>\n",
       "<p>74 rows × 4 columns</p>\n",
       "</div>"
      ],
      "text/plain": [
       "                               Course Prerequisites Course Number  \\\n",
       "0         CSE1010: COMPUTER SCIENCE 1                     CSE1010   \n",
       "1   CSE1110: STRUCTURED PROGRAMMING 1                     CSE1110   \n",
       "2   CSE1120: STRUCTURED PROGRAMMING 2       CSE1110       CSE1120   \n",
       "3   CSE1210: CLIENT -SIDE SCRIPTING 1                     CSE1210   \n",
       "4   CSE1220: CLIENT -SIDE SCRIPTING 2                     CSE1220   \n",
       "..                                ...           ...           ...   \n",
       "69             NET3910: NET PROJECT D                     NET3910   \n",
       "70              NET3920:NET PROJECT E                     NET3920   \n",
       "71    NET3950: NET ADVANCED PRACTICUM                     NET3950   \n",
       "72        DES1020: THE DESIGN PROCESS                     DES1020   \n",
       "73              DES1040: 3-D DESIGN 1       DES1020       DES1040   \n",
       "\n",
       "                 Course Name  \n",
       "0         COMPUTER SCIENCE 1  \n",
       "1   STRUCTURED PROGRAMMING 1  \n",
       "2   STRUCTURED PROGRAMMING 2  \n",
       "3   CLIENT -SIDE SCRIPTING 1  \n",
       "4   CLIENT -SIDE SCRIPTING 2  \n",
       "..                       ...  \n",
       "69             NET PROJECT D  \n",
       "70             NET PROJECT E  \n",
       "71    NET ADVANCED PRACTICUM  \n",
       "72        THE DESIGN PROCESS  \n",
       "73              3-D DESIGN 1  \n",
       "\n",
       "[74 rows x 4 columns]"
      ]
     },
     "execution_count": 4,
     "metadata": {},
     "output_type": "execute_result"
    }
   ],
   "source": [
    "import pandas as pd\n",
    "\n",
    "c = pd.read_csv('CSE.csv').fillna('')\n",
    "n = pd.read_csv('NET.csv').fillna('')\n",
    "\n",
    "e = pd.read_csv('ELT.csv').fillna('')\n",
    "# removed unused ELT courses\n",
    "recommended = ['1010','1130','1140','2010','2140','2160','2240','2170','3170','3150','3180','3190','3200']\n",
    "elt = ['ELT' + x for x in recommended]\n",
    "e = e[e['Course'].str[:7].isin(elt)]\n",
    "\n",
    "design_courses = {'DES1020: THE DESIGN PROCESS':'','DES1040: 3-D DESIGN 1':'DES1020'}\n",
    "d = pd.DataFrame.from_dict(design_courses, orient='index', columns=['Prerequisites']).reset_index()\n",
    "d.columns = ['Course', 'Prerequisites']\n",
    "\n",
    "df = pd.concat([c,e,n,d])\n",
    "df.reset_index(drop=True, inplace=True)\n",
    "\n",
    "# split column to course code and course name\n",
    "df['Course Number'] = df['Course'].str.split(':').str[0].str.strip()\n",
    "df['Course Name'] = df['Course'].str.split(':').str[1].str.strip()\n",
    "df"
   ]
  },
  {
   "cell_type": "code",
   "execution_count": null,
   "metadata": {},
   "outputs": [],
   "source": []
  },
  {
   "cell_type": "code",
   "execution_count": null,
   "metadata": {},
   "outputs": [],
   "source": []
  },
  {
   "cell_type": "code",
   "execution_count": null,
   "metadata": {},
   "outputs": [],
   "source": []
  },
  {
   "cell_type": "code",
   "execution_count": 46,
   "metadata": {},
   "outputs": [
    {
     "data": {
      "image/svg+xml": "<?xml version=\"1.0\" encoding=\"UTF-8\" standalone=\"no\"?>\n<!DOCTYPE svg PUBLIC \"-//W3C//DTD SVG 1.1//EN\"\n \"http://www.w3.org/Graphics/SVG/1.1/DTD/svg11.dtd\">\n<!-- Generated by graphviz version 2.43.0 (0)\n -->\n<!-- Title: %3 Pages: 1 -->\n<svg width=\"939pt\" height=\"813pt\"\n viewBox=\"0.00 0.00 939.20 813.43\" xmlns=\"http://www.w3.org/2000/svg\" xmlns:xlink=\"http://www.w3.org/1999/xlink\">\n<g id=\"graph0\" class=\"graph\" transform=\"scale(1 1) rotate(0) translate(4 809.43)\">\n<title>%3</title>\n<polygon fill=\"white\" stroke=\"transparent\" points=\"-4,4 -4,-809.43 935.2,-809.43 935.2,4 -4,4\"/>\n<!-- CSE1010 -->\n<g id=\"node1\" class=\"node\">\n<title>CSE1010</title>\n<polygon fill=\"none\" stroke=\"red\" points=\"156.46,-151.68 73.46,-151.68 73.46,-115.68 156.46,-115.68 156.46,-151.68\"/>\n<text text-anchor=\"middle\" x=\"114.96\" y=\"-129.98\" font-family=\"Times,serif\" font-size=\"14.00\">CSE1010</text>\n</g>\n<!-- CSE2010 -->\n<g id=\"node8\" class=\"node\">\n<title>CSE2010</title>\n<polygon fill=\"none\" stroke=\"black\" points=\"214.97,-222.68 131.97,-222.68 131.97,-186.68 214.97,-186.68 214.97,-222.68\"/>\n<text text-anchor=\"middle\" x=\"173.47\" y=\"-200.98\" font-family=\"Times,serif\" font-size=\"14.00\">CSE2010</text>\n</g>\n<!-- CSE1010&#45;&#45;CSE2010 -->\n<g id=\"edge3\" class=\"edge\">\n<title>CSE1010&#45;&#45;CSE2010</title>\n<path fill=\"none\" stroke=\"black\" d=\"M130.03,-151.96C138.7,-162.48 149.56,-175.66 158.25,-186.21\"/>\n</g>\n<!-- CSE1110 -->\n<g id=\"node2\" class=\"node\">\n<title>CSE1110</title>\n<polygon fill=\"none\" stroke=\"black\" points=\"282.38,-136.56 199.38,-136.56 199.38,-100.56 282.38,-100.56 282.38,-136.56\"/>\n<text text-anchor=\"middle\" x=\"240.88\" y=\"-114.86\" font-family=\"Times,serif\" font-size=\"14.00\">CSE1110</text>\n</g>\n<!-- CSE1120 -->\n<g id=\"node3\" class=\"node\">\n<title>CSE1120</title>\n<polygon fill=\"none\" stroke=\"black\" points=\"279.85,-221.75 196.85,-221.75 196.85,-185.75 279.85,-185.75 279.85,-221.75\"/>\n<text text-anchor=\"middle\" x=\"238.35\" y=\"-200.05\" font-family=\"Times,serif\" font-size=\"14.00\">CSE1120</text>\n</g>\n<!-- CSE1110&#45;&#45;CSE1120 -->\n<g id=\"edge1\" class=\"edge\">\n<title>CSE1110&#45;&#45;CSE1120</title>\n<path fill=\"none\" stroke=\"black\" d=\"M240.34,-136.63C239.91,-151.09 239.31,-171.26 238.88,-185.71\"/>\n</g>\n<!-- CSE1240 -->\n<g id=\"node6\" class=\"node\">\n<title>CSE1240</title>\n<polygon fill=\"none\" stroke=\"black\" points=\"329.35,-78 246.35,-78 246.35,-42 329.35,-42 329.35,-78\"/>\n<text text-anchor=\"middle\" x=\"287.85\" y=\"-56.3\" font-family=\"Times,serif\" font-size=\"14.00\">CSE1240</text>\n</g>\n<!-- CSE1110&#45;&#45;CSE1240 -->\n<g id=\"edge2\" class=\"edge\">\n<title>CSE1110&#45;&#45;CSE1240</title>\n<path fill=\"none\" stroke=\"black\" d=\"M255.48,-100.36C261.08,-93.37 267.47,-85.4 273.09,-78.4\"/>\n</g>\n<!-- CSE1120&#45;&#45;CSE2010 -->\n<g id=\"edge4\" class=\"edge\">\n<title>CSE1120&#45;&#45;CSE2010</title>\n<path fill=\"none\" stroke=\"black\" d=\"M196.53,-204.35C196.43,-204.35 196.33,-204.35 196.23,-204.35\"/>\n</g>\n<!-- CSE2110 -->\n<g id=\"node9\" class=\"node\">\n<title>CSE2110</title>\n<polygon fill=\"none\" stroke=\"black\" points=\"316.5,-315.24 233.5,-315.24 233.5,-279.24 316.5,-279.24 316.5,-315.24\"/>\n<text text-anchor=\"middle\" x=\"275\" y=\"-293.54\" font-family=\"Times,serif\" font-size=\"14.00\">CSE2110</text>\n</g>\n<!-- CSE1120&#45;&#45;CSE2110 -->\n<g id=\"edge5\" class=\"edge\">\n<title>CSE1120&#45;&#45;CSE2110</title>\n<path fill=\"none\" stroke=\"black\" d=\"M245.42,-221.78C251.86,-238.22 261.35,-262.42 267.83,-278.95\"/>\n</g>\n<!-- CSE2140 -->\n<g id=\"node12\" class=\"node\">\n<title>CSE2140</title>\n<polygon fill=\"none\" stroke=\"black\" points=\"323.82,-258.86 240.82,-258.86 240.82,-222.86 323.82,-222.86 323.82,-258.86\"/>\n<text text-anchor=\"middle\" x=\"282.32\" y=\"-237.16\" font-family=\"Times,serif\" font-size=\"14.00\">CSE2140</text>\n</g>\n<!-- CSE1120&#45;&#45;CSE2140 -->\n<g id=\"edge9\" class=\"edge\">\n<title>CSE1120&#45;&#45;CSE2140</title>\n<path fill=\"none\" stroke=\"black\" d=\"M259.82,-221.87C260.17,-222.16 260.52,-222.46 260.87,-222.75\"/>\n</g>\n<!-- CSE2210 -->\n<g id=\"node13\" class=\"node\">\n<title>CSE2210</title>\n<polygon fill=\"none\" stroke=\"black\" points=\"184.97,-225.55 101.97,-225.55 101.97,-189.55 184.97,-189.55 184.97,-225.55\"/>\n<text text-anchor=\"middle\" x=\"143.47\" y=\"-203.85\" font-family=\"Times,serif\" font-size=\"14.00\">CSE2210</text>\n</g>\n<!-- CSE1120&#45;&#45;CSE2210 -->\n<g id=\"edge11\" class=\"edge\">\n<title>CSE1120&#45;&#45;CSE2210</title>\n<path fill=\"none\" stroke=\"black\" d=\"M196.73,-205.42C192.85,-205.57 188.91,-205.73 185.03,-205.88\"/>\n</g>\n<!-- CSE2240 -->\n<g id=\"node14\" class=\"node\">\n<title>CSE2240</title>\n<polygon fill=\"none\" stroke=\"black\" points=\"337.33,-159.46 254.33,-159.46 254.33,-123.46 337.33,-123.46 337.33,-159.46\"/>\n<text text-anchor=\"middle\" x=\"295.83\" y=\"-137.76\" font-family=\"Times,serif\" font-size=\"14.00\">CSE2240</text>\n</g>\n<!-- CSE1120&#45;&#45;CSE2240 -->\n<g id=\"edge13\" class=\"edge\">\n<title>CSE1120&#45;&#45;CSE2240</title>\n<path fill=\"none\" stroke=\"black\" d=\"M254.97,-185.73C262.53,-177.54 271.46,-167.87 279.04,-159.65\"/>\n</g>\n<!-- CSE1210 -->\n<g id=\"node4\" class=\"node\">\n<title>CSE1210</title>\n<polygon fill=\"none\" stroke=\"black\" points=\"566,-540 483,-540 483,-504 566,-504 566,-540\"/>\n<text text-anchor=\"middle\" x=\"524.5\" y=\"-518.3\" font-family=\"Times,serif\" font-size=\"14.00\">CSE1210</text>\n</g>\n<!-- CSE1220 -->\n<g id=\"node5\" class=\"node\">\n<title>CSE1220</title>\n<polygon fill=\"none\" stroke=\"black\" points=\"104,-204.73 21,-204.73 21,-168.73 104,-168.73 104,-204.73\"/>\n<text text-anchor=\"middle\" x=\"62.5\" y=\"-183.03\" font-family=\"Times,serif\" font-size=\"14.00\">CSE1220</text>\n</g>\n<!-- CSE1220&#45;&#45;CSE2210 -->\n<g id=\"edge10\" class=\"edge\">\n<title>CSE1220&#45;&#45;CSE2210</title>\n<path fill=\"none\" stroke=\"black\" d=\"M104.41,-197.51C104.56,-197.55 104.72,-197.59 104.87,-197.62\"/>\n</g>\n<!-- CSE1240&#45;&#45;CSE2240 -->\n<g id=\"edge12\" class=\"edge\">\n<title>CSE1240&#45;&#45;CSE2240</title>\n<path fill=\"none\" stroke=\"black\" d=\"M289.62,-78.08C290.94,-91.58 292.74,-109.94 294.06,-123.43\"/>\n</g>\n<!-- CSE1910 -->\n<g id=\"node7\" class=\"node\">\n<title>CSE1910</title>\n<polygon fill=\"none\" stroke=\"black\" points=\"188,-708 105,-708 105,-672 188,-672 188,-708\"/>\n<text text-anchor=\"middle\" x=\"146.5\" y=\"-686.3\" font-family=\"Times,serif\" font-size=\"14.00\">CSE1910</text>\n</g>\n<!-- CSE3010 -->\n<g id=\"node17\" class=\"node\">\n<title>CSE3010</title>\n<polygon fill=\"none\" stroke=\"black\" points=\"200.42,-320.22 124.34,-302.22 200.42,-284.22 276.5,-302.22 200.42,-320.22\"/>\n<text text-anchor=\"middle\" x=\"200.42\" y=\"-298.52\" font-family=\"Times,serif\" font-size=\"14.00\">CSE3010</text>\n</g>\n<!-- CSE2010&#45;&#45;CSE3010 -->\n<g id=\"edge14\" class=\"edge\">\n<title>CSE2010&#45;&#45;CSE3010</title>\n<path fill=\"none\" stroke=\"black\" d=\"M178.54,-223.02C183.48,-240.9 190.93,-267.87 195.73,-285.26\"/>\n</g>\n<!-- CSE2120 -->\n<g id=\"node10\" class=\"node\">\n<title>CSE2120</title>\n<polygon fill=\"none\" stroke=\"black\" points=\"265.58,-390.84 182.58,-390.84 182.58,-354.84 265.58,-354.84 265.58,-390.84\"/>\n<text text-anchor=\"middle\" x=\"224.08\" y=\"-369.14\" font-family=\"Times,serif\" font-size=\"14.00\">CSE2120</text>\n</g>\n<!-- CSE2110&#45;&#45;CSE2120 -->\n<g id=\"edge6\" class=\"edge\">\n<title>CSE2110&#45;&#45;CSE2120</title>\n<path fill=\"none\" stroke=\"black\" d=\"M262.67,-315.54C254.67,-327.42 244.28,-342.85 236.29,-354.71\"/>\n</g>\n<!-- CSE2110&#45;&#45;CSE2140 -->\n<g id=\"edge8\" class=\"edge\">\n<title>CSE2110&#45;&#45;CSE2140</title>\n<path fill=\"none\" stroke=\"black\" d=\"M277.35,-279.09C278.19,-272.65 279.13,-265.41 279.97,-258.97\"/>\n</g>\n<!-- CSE2110&#45;&#45;CSE3010 -->\n<g id=\"edge15\" class=\"edge\">\n<title>CSE2110&#45;&#45;CSE3010</title>\n<path fill=\"none\" stroke=\"black\" d=\"M233.35,-300.02C233.21,-300.03 233.08,-300.04 232.95,-300.04\"/>\n</g>\n<!-- CSE3120 -->\n<g id=\"node20\" class=\"node\">\n<title>CSE3120</title>\n<polygon fill=\"none\" stroke=\"black\" points=\"352.37,-369.94 276.29,-351.94 352.37,-333.94 428.45,-351.94 352.37,-369.94\"/>\n<text text-anchor=\"middle\" x=\"352.37\" y=\"-348.24\" font-family=\"Times,serif\" font-size=\"14.00\">CSE3120</text>\n</g>\n<!-- CSE2110&#45;&#45;CSE3120 -->\n<g id=\"edge19\" class=\"edge\">\n<title>CSE2110&#45;&#45;CSE3120</title>\n<path fill=\"none\" stroke=\"black\" d=\"M300.76,-315.45C311.31,-322.91 323.31,-331.39 333.08,-338.3\"/>\n</g>\n<!-- CSE3210 -->\n<g id=\"node23\" class=\"node\">\n<title>CSE3210</title>\n<polygon fill=\"none\" stroke=\"black\" points=\"199.12,-285.13 123.04,-267.13 199.12,-249.13 275.2,-267.13 199.12,-285.13\"/>\n<text text-anchor=\"middle\" x=\"199.12\" y=\"-263.43\" font-family=\"Times,serif\" font-size=\"14.00\">CSE3210</text>\n</g>\n<!-- CSE2110&#45;&#45;CSE3210 -->\n<g id=\"edge23\" class=\"edge\">\n<title>CSE2110&#45;&#45;CSE3210</title>\n<path fill=\"none\" stroke=\"black\" d=\"M233.07,-280.6C231.28,-279.89 229.51,-279.19 227.77,-278.49\"/>\n</g>\n<!-- CSE3240 -->\n<g id=\"node24\" class=\"node\">\n<title>CSE3240</title>\n<polygon fill=\"none\" stroke=\"black\" points=\"324.65,-238.71 248.57,-220.71 324.65,-202.71 400.73,-220.71 324.65,-238.71\"/>\n<text text-anchor=\"middle\" x=\"324.65\" y=\"-217.01\" font-family=\"Times,serif\" font-size=\"14.00\">CSE3240</text>\n</g>\n<!-- CSE2110&#45;&#45;CSE3240 -->\n<g id=\"edge25\" class=\"edge\">\n<title>CSE2110&#45;&#45;CSE3240</title>\n<path fill=\"none\" stroke=\"black\" d=\"M286.76,-279.1C295.2,-266.11 306.44,-248.78 314.48,-236.39\"/>\n</g>\n<!-- CSE2130 -->\n<g id=\"node11\" class=\"node\">\n<title>CSE2130</title>\n<polygon fill=\"none\" stroke=\"black\" points=\"214.09,-467.98 131.09,-467.98 131.09,-431.98 214.09,-431.98 214.09,-467.98\"/>\n<text text-anchor=\"middle\" x=\"172.59\" y=\"-446.28\" font-family=\"Times,serif\" font-size=\"14.00\">CSE2130</text>\n</g>\n<!-- CSE2120&#45;&#45;CSE2130 -->\n<g id=\"edge7\" class=\"edge\">\n<title>CSE2120&#45;&#45;CSE2130</title>\n<path fill=\"none\" stroke=\"black\" d=\"M211.88,-391.12C203.67,-403.42 192.89,-419.56 184.7,-431.83\"/>\n</g>\n<!-- CSE3110 -->\n<g id=\"node19\" class=\"node\">\n<title>CSE3110</title>\n<polygon fill=\"none\" stroke=\"black\" points=\"252.38,-446.56 176.3,-428.56 252.38,-410.56 328.46,-428.56 252.38,-446.56\"/>\n<text text-anchor=\"middle\" x=\"252.38\" y=\"-424.86\" font-family=\"Times,serif\" font-size=\"14.00\">CSE3110</text>\n</g>\n<!-- CSE2120&#45;&#45;CSE3110 -->\n<g id=\"edge18\" class=\"edge\">\n<title>CSE2120&#45;&#45;CSE3110</title>\n<path fill=\"none\" stroke=\"black\" d=\"M233.35,-391.08C236.83,-397.94 240.76,-405.68 244.14,-412.34\"/>\n</g>\n<!-- CSE3140 -->\n<g id=\"node22\" class=\"node\">\n<title>CSE3140</title>\n<polygon fill=\"none\" stroke=\"black\" points=\"127.43,-415.67 51.35,-397.67 127.43,-379.67 203.51,-397.67 127.43,-415.67\"/>\n<text text-anchor=\"middle\" x=\"127.43\" y=\"-393.97\" font-family=\"Times,serif\" font-size=\"14.00\">CSE3140</text>\n</g>\n<!-- CSE2120&#45;&#45;CSE3140 -->\n<g id=\"edge21\" class=\"edge\">\n<title>CSE2120&#45;&#45;CSE3140</title>\n<path fill=\"none\" stroke=\"black\" d=\"M182.53,-383.51C176.39,-385.09 170.1,-386.71 164.07,-388.26\"/>\n</g>\n<!-- CSE2210&#45;&#45;CSE3210 -->\n<g id=\"edge22\" class=\"edge\">\n<title>CSE2210&#45;&#45;CSE3210</title>\n<path fill=\"none\" stroke=\"black\" d=\"M160.47,-225.75C168.4,-234.23 177.72,-244.21 185.22,-252.24\"/>\n</g>\n<!-- CSE2240&#45;&#45;CSE3240 -->\n<g id=\"edge24\" class=\"edge\">\n<title>CSE2240&#45;&#45;CSE3240</title>\n<path fill=\"none\" stroke=\"black\" d=\"M302.51,-159.84C307.37,-173.19 313.89,-191.12 318.59,-204.05\"/>\n</g>\n<!-- CSE2910 -->\n<g id=\"node15\" class=\"node\">\n<title>CSE2910</title>\n<polygon fill=\"none\" stroke=\"black\" points=\"146,-78 63,-78 63,-42 146,-42 146,-78\"/>\n<text text-anchor=\"middle\" x=\"104.5\" y=\"-56.3\" font-family=\"Times,serif\" font-size=\"14.00\">CSE2910</text>\n</g>\n<!-- CSE2920 -->\n<g id=\"node16\" class=\"node\">\n<title>CSE2920</title>\n<polygon fill=\"none\" stroke=\"black\" points=\"419,-771 336,-771 336,-735 419,-735 419,-771\"/>\n<text text-anchor=\"middle\" x=\"377.5\" y=\"-749.3\" font-family=\"Times,serif\" font-size=\"14.00\">CSE2920</text>\n</g>\n<!-- CSE3020 -->\n<g id=\"node18\" class=\"node\">\n<title>CSE3020</title>\n<polygon fill=\"none\" stroke=\"black\" points=\"174.52,-400.12 98.44,-382.12 174.52,-364.12 250.6,-382.12 174.52,-400.12\"/>\n<text text-anchor=\"middle\" x=\"174.52\" y=\"-378.42\" font-family=\"Times,serif\" font-size=\"14.00\">CSE3020</text>\n</g>\n<!-- CSE3010&#45;&#45;CSE3020 -->\n<g id=\"edge16\" class=\"edge\">\n<title>CSE3010&#45;&#45;CSE3020</title>\n<path fill=\"none\" stroke=\"black\" d=\"M194.93,-319.16C190.53,-332.72 184.4,-351.65 180,-365.2\"/>\n</g>\n<!-- CSE3110&#45;&#45;CSE3020 -->\n<g id=\"edge17\" class=\"edge\">\n<title>CSE3110&#45;&#45;CSE3020</title>\n<path fill=\"none\" stroke=\"black\" d=\"M230.69,-415.62C219.98,-409.24 207.09,-401.55 196.36,-395.15\"/>\n</g>\n<!-- CSE3310 -->\n<g id=\"node25\" class=\"node\">\n<title>CSE3310</title>\n<polygon fill=\"none\" stroke=\"black\" points=\"330.21,-454.69 254.13,-436.69 330.21,-418.69 406.29,-436.69 330.21,-454.69\"/>\n<text text-anchor=\"middle\" x=\"330.21\" y=\"-432.99\" font-family=\"Times,serif\" font-size=\"14.00\">CSE3310</text>\n</g>\n<!-- CSE3110&#45;&#45;CSE3310 -->\n<g id=\"edge26\" class=\"edge\">\n<title>CSE3110&#45;&#45;CSE3310</title>\n<path fill=\"none\" stroke=\"black\" d=\"M305.16,-434.07C305.26,-434.09 305.37,-434.1 305.48,-434.11\"/>\n</g>\n<!-- CSE3130 -->\n<g id=\"node21\" class=\"node\">\n<title>CSE3130</title>\n<polygon fill=\"none\" stroke=\"black\" points=\"394.95,-338.16 318.87,-320.16 394.95,-302.16 471.03,-320.16 394.95,-338.16\"/>\n<text text-anchor=\"middle\" x=\"394.95\" y=\"-316.46\" font-family=\"Times,serif\" font-size=\"14.00\">CSE3130</text>\n</g>\n<!-- CSE3120&#45;&#45;CSE3130 -->\n<g id=\"edge20\" class=\"edge\">\n<title>CSE3120&#45;&#45;CSE3130</title>\n<path fill=\"none\" stroke=\"black\" d=\"M371.17,-337.91C372.95,-336.58 374.76,-335.23 376.54,-333.9\"/>\n</g>\n<!-- CSE3120&#45;&#45;CSE3310 -->\n<g id=\"edge27\" class=\"edge\">\n<title>CSE3120&#45;&#45;CSE3310</title>\n<path fill=\"none\" stroke=\"black\" d=\"M347.88,-369.09C344.04,-383.79 338.53,-404.87 334.69,-419.57\"/>\n</g>\n<!-- ELT3170 -->\n<g id=\"node39\" class=\"node\">\n<title>ELT3170</title>\n<polygon fill=\"none\" stroke=\"black\" points=\"449.54,-362.97 375.98,-344.97 449.54,-326.97 523.11,-344.97 449.54,-362.97\"/>\n<text text-anchor=\"middle\" x=\"449.54\" y=\"-341.27\" font-family=\"Times,serif\" font-size=\"14.00\">ELT3170</text>\n</g>\n<!-- CSE3120&#45;&#45;ELT3170 -->\n<g id=\"edge38\" class=\"edge\">\n<title>CSE3120&#45;&#45;ELT3170</title>\n<path fill=\"none\" stroke=\"black\" d=\"M410.86,-347.75C411.02,-347.74 411.18,-347.72 411.34,-347.71\"/>\n</g>\n<!-- CSE3320 -->\n<g id=\"node26\" class=\"node\">\n<title>CSE3320</title>\n<polygon fill=\"none\" stroke=\"black\" points=\"330.44,-540.48 254.36,-522.48 330.44,-504.48 406.52,-522.48 330.44,-540.48\"/>\n<text text-anchor=\"middle\" x=\"330.44\" y=\"-518.78\" font-family=\"Times,serif\" font-size=\"14.00\">CSE3320</text>\n</g>\n<!-- CSE3310&#45;&#45;CSE3320 -->\n<g id=\"edge28\" class=\"edge\">\n<title>CSE3310&#45;&#45;CSE3320</title>\n<path fill=\"none\" stroke=\"black\" d=\"M330.26,-454.89C330.3,-469.44 330.35,-489.76 330.39,-504.31\"/>\n</g>\n<!-- CSE3330 -->\n<g id=\"node27\" class=\"node\">\n<title>CSE3330</title>\n<polygon fill=\"none\" stroke=\"black\" points=\"315.99,-620.23 239.91,-602.23 315.99,-584.23 392.07,-602.23 315.99,-620.23\"/>\n<text text-anchor=\"middle\" x=\"315.99\" y=\"-598.53\" font-family=\"Times,serif\" font-size=\"14.00\">CSE3330</text>\n</g>\n<!-- CSE3320&#45;&#45;CSE3330 -->\n<g id=\"edge29\" class=\"edge\">\n<title>CSE3320&#45;&#45;CSE3330</title>\n<path fill=\"none\" stroke=\"black\" d=\"M327.31,-539.79C324.88,-553.16 321.54,-571.59 319.12,-584.96\"/>\n</g>\n<!-- CSE3340 -->\n<g id=\"node28\" class=\"node\">\n<title>CSE3340</title>\n<polygon fill=\"none\" stroke=\"black\" points=\"297.62,-695.31 221.54,-677.31 297.62,-659.31 373.7,-677.31 297.62,-695.31\"/>\n<text text-anchor=\"middle\" x=\"297.62\" y=\"-673.61\" font-family=\"Times,serif\" font-size=\"14.00\">CSE3340</text>\n</g>\n<!-- CSE3330&#45;&#45;CSE3340 -->\n<g id=\"edge30\" class=\"edge\">\n<title>CSE3330&#45;&#45;CSE3340</title>\n<path fill=\"none\" stroke=\"black\" d=\"M311.82,-619.27C308.84,-631.47 304.83,-647.84 301.83,-660.08\"/>\n</g>\n<!-- CSE3910 -->\n<g id=\"node29\" class=\"node\">\n<title>CSE3910</title>\n<polygon fill=\"none\" stroke=\"black\" points=\"475.29,-162 399.21,-144 475.29,-126 551.37,-144 475.29,-162\"/>\n<text text-anchor=\"middle\" x=\"475.29\" y=\"-140.3\" font-family=\"Times,serif\" font-size=\"14.00\">CSE3910</text>\n</g>\n<!-- CSE3920 -->\n<g id=\"node30\" class=\"node\">\n<title>CSE3920</title>\n<polygon fill=\"none\" stroke=\"black\" points=\"790.29,-477 714.21,-459 790.29,-441 866.37,-459 790.29,-477\"/>\n<text text-anchor=\"middle\" x=\"790.29\" y=\"-455.3\" font-family=\"Times,serif\" font-size=\"14.00\">CSE3920</text>\n</g>\n<!-- ELT1010 -->\n<g id=\"node31\" class=\"node\">\n<title>ELT1010</title>\n<polygon fill=\"none\" stroke=\"black\" points=\"646.93,-344.32 566.93,-344.32 566.93,-308.32 646.93,-308.32 646.93,-344.32\"/>\n<text text-anchor=\"middle\" x=\"606.93\" y=\"-322.62\" font-family=\"Times,serif\" font-size=\"14.00\">ELT1010</text>\n</g>\n<!-- ELT1140 -->\n<g id=\"node33\" class=\"node\">\n<title>ELT1140</title>\n<polygon fill=\"none\" stroke=\"black\" points=\"572.15,-395.23 492.15,-395.23 492.15,-359.23 572.15,-359.23 572.15,-395.23\"/>\n<text text-anchor=\"middle\" x=\"532.15\" y=\"-373.53\" font-family=\"Times,serif\" font-size=\"14.00\">ELT1140</text>\n</g>\n<!-- ELT1010&#45;&#45;ELT1140 -->\n<g id=\"edge31\" class=\"edge\">\n<title>ELT1010&#45;&#45;ELT1140</title>\n<path fill=\"none\" stroke=\"black\" d=\"M580.35,-344.41C573.3,-349.21 565.68,-354.4 558.64,-359.19\"/>\n</g>\n<!-- ELT2010 -->\n<g id=\"node34\" class=\"node\">\n<title>ELT2010</title>\n<polygon fill=\"none\" stroke=\"black\" points=\"714.75,-300.53 634.75,-300.53 634.75,-264.53 714.75,-264.53 714.75,-300.53\"/>\n<text text-anchor=\"middle\" x=\"674.75\" y=\"-278.83\" font-family=\"Times,serif\" font-size=\"14.00\">ELT2010</text>\n</g>\n<!-- ELT1010&#45;&#45;ELT2010 -->\n<g id=\"edge32\" class=\"edge\">\n<title>ELT1010&#45;&#45;ELT2010</title>\n<path fill=\"none\" stroke=\"black\" d=\"M634.91,-308.26C638.85,-305.71 642.9,-303.1 646.84,-300.55\"/>\n</g>\n<!-- ELT1130 -->\n<g id=\"node32\" class=\"node\">\n<title>ELT1130</title>\n<polygon fill=\"none\" stroke=\"black\" points=\"542,-749.48 462,-749.48 462,-713.48 542,-713.48 542,-749.48\"/>\n<text text-anchor=\"middle\" x=\"502\" y=\"-727.78\" font-family=\"Times,serif\" font-size=\"14.00\">ELT1130</text>\n</g>\n<!-- ELT2140 -->\n<g id=\"node35\" class=\"node\">\n<title>ELT2140</title>\n<polygon fill=\"none\" stroke=\"black\" points=\"586.02,-692.15 506.02,-692.15 506.02,-656.15 586.02,-656.15 586.02,-692.15\"/>\n<text text-anchor=\"middle\" x=\"546.02\" y=\"-670.45\" font-family=\"Times,serif\" font-size=\"14.00\">ELT2140</text>\n</g>\n<!-- ELT1130&#45;&#45;ELT2140 -->\n<g id=\"edge33\" class=\"edge\">\n<title>ELT1130&#45;&#45;ELT2140</title>\n<path fill=\"none\" stroke=\"black\" d=\"M515.93,-713.34C521.07,-706.65 526.89,-699.07 532.03,-692.37\"/>\n</g>\n<!-- ELT2160 -->\n<g id=\"node36\" class=\"node\">\n<title>ELT2160</title>\n<polygon fill=\"none\" stroke=\"black\" points=\"618.05,-461.72 538.05,-461.72 538.05,-425.72 618.05,-425.72 618.05,-461.72\"/>\n<text text-anchor=\"middle\" x=\"578.05\" y=\"-440.02\" font-family=\"Times,serif\" font-size=\"14.00\">ELT2160</text>\n</g>\n<!-- ELT1140&#45;&#45;ELT2160 -->\n<g id=\"edge34\" class=\"edge\">\n<title>ELT1140&#45;&#45;ELT2160</title>\n<path fill=\"none\" stroke=\"black\" d=\"M544.69,-395.39C551.16,-404.78 559.04,-416.19 565.52,-425.57\"/>\n</g>\n<!-- ELT1140&#45;&#45;ELT3170 -->\n<g id=\"edge37\" class=\"edge\">\n<title>ELT1140&#45;&#45;ELT3170</title>\n<path fill=\"none\" stroke=\"black\" d=\"M491.81,-361.48C487.22,-359.69 482.62,-357.89 478.23,-356.18\"/>\n</g>\n<!-- ELT3150 -->\n<g id=\"node38\" class=\"node\">\n<title>ELT3150</title>\n<polygon fill=\"none\" stroke=\"black\" points=\"570.13,-624 496.56,-606 570.13,-588 643.69,-606 570.13,-624\"/>\n<text text-anchor=\"middle\" x=\"570.13\" y=\"-602.3\" font-family=\"Times,serif\" font-size=\"14.00\">ELT3150</text>\n</g>\n<!-- ELT2140&#45;&#45;ELT3150 -->\n<g id=\"edge36\" class=\"edge\">\n<title>ELT2140&#45;&#45;ELT3150</title>\n<path fill=\"none\" stroke=\"black\" d=\"M552.48,-655.89C556.11,-645.64 560.6,-632.93 564.14,-622.91\"/>\n</g>\n<!-- ELT2170 -->\n<g id=\"node37\" class=\"node\">\n<title>ELT2170</title>\n<polygon fill=\"none\" stroke=\"black\" points=\"678.55,-510.63 598.55,-510.63 598.55,-474.63 678.55,-474.63 678.55,-510.63\"/>\n<text text-anchor=\"middle\" x=\"638.55\" y=\"-488.93\" font-family=\"Times,serif\" font-size=\"14.00\">ELT2170</text>\n</g>\n<!-- ELT2160&#45;&#45;ELT2170 -->\n<g id=\"edge35\" class=\"edge\">\n<title>ELT2160&#45;&#45;ELT2170</title>\n<path fill=\"none\" stroke=\"black\" d=\"M600.58,-461.93C605.68,-466.06 611.11,-470.44 616.21,-474.56\"/>\n</g>\n<!-- ELT3180 -->\n<g id=\"node40\" class=\"node\">\n<title>ELT3180</title>\n<polygon fill=\"none\" stroke=\"black\" points=\"702.12,-550.93 628.56,-532.93 702.12,-514.93 775.69,-532.93 702.12,-550.93\"/>\n<text text-anchor=\"middle\" x=\"702.12\" y=\"-529.23\" font-family=\"Times,serif\" font-size=\"14.00\">ELT3180</text>\n</g>\n<!-- ELT2170&#45;&#45;ELT3180 -->\n<g id=\"edge39\" class=\"edge\">\n<title>ELT2170&#45;&#45;ELT3180</title>\n<path fill=\"none\" stroke=\"black\" d=\"M666.99,-510.66C671.88,-513.76 676.88,-516.93 681.52,-519.87\"/>\n</g>\n<!-- ELT3190 -->\n<g id=\"node41\" class=\"node\">\n<title>ELT3190</title>\n<polygon fill=\"none\" stroke=\"black\" points=\"503.98,-321.25 430.41,-303.25 503.98,-285.25 577.54,-303.25 503.98,-321.25\"/>\n<text text-anchor=\"middle\" x=\"503.98\" y=\"-299.55\" font-family=\"Times,serif\" font-size=\"14.00\">ELT3190</text>\n</g>\n<!-- ELT3170&#45;&#45;ELT3190 -->\n<g id=\"edge40\" class=\"edge\">\n<title>ELT3170&#45;&#45;ELT3190</title>\n<path fill=\"none\" stroke=\"black\" d=\"M467.37,-331.31C473.32,-326.75 479.96,-321.66 485.93,-317.08\"/>\n</g>\n<!-- ELT3200 -->\n<g id=\"node42\" class=\"node\">\n<title>ELT3200</title>\n<polygon fill=\"none\" stroke=\"black\" points=\"484.45,-275.62 410.88,-257.62 484.45,-239.62 558.01,-257.62 484.45,-275.62\"/>\n<text text-anchor=\"middle\" x=\"484.45\" y=\"-253.92\" font-family=\"Times,serif\" font-size=\"14.00\">ELT3200</text>\n</g>\n<!-- ELT3170&#45;&#45;ELT3200 -->\n<g id=\"edge41\" class=\"edge\">\n<title>ELT3170&#45;&#45;ELT3200</title>\n<path fill=\"none\" stroke=\"black\" d=\"M456.11,-328.54C462.31,-313.03 471.56,-289.87 477.79,-274.28\"/>\n</g>\n<!-- NET1010 -->\n<g id=\"node43\" class=\"node\">\n<title>NET1010</title>\n<polygon fill=\"none\" stroke=\"black\" points=\"769.35,-628.78 685.35,-628.78 685.35,-592.78 769.35,-592.78 769.35,-628.78\"/>\n<text text-anchor=\"middle\" x=\"727.35\" y=\"-607.08\" font-family=\"Times,serif\" font-size=\"14.00\">NET1010</text>\n</g>\n<!-- NET2010 -->\n<g id=\"node45\" class=\"node\">\n<title>NET2010</title>\n<polygon fill=\"none\" stroke=\"black\" points=\"825.68,-686.84 741.68,-686.84 741.68,-650.84 825.68,-650.84 825.68,-686.84\"/>\n<text text-anchor=\"middle\" x=\"783.68\" y=\"-665.14\" font-family=\"Times,serif\" font-size=\"14.00\">NET2010</text>\n</g>\n<!-- NET1010&#45;&#45;NET2010 -->\n<g id=\"edge42\" class=\"edge\">\n<title>NET1010&#45;&#45;NET2010</title>\n<path fill=\"none\" stroke=\"black\" d=\"M744.87,-628.83C751.58,-635.76 759.25,-643.66 765.98,-650.6\"/>\n</g>\n<!-- NET1910 -->\n<g id=\"node44\" class=\"node\">\n<title>NET1910</title>\n<polygon fill=\"none\" stroke=\"black\" points=\"672,-36 588,-36 588,0 672,0 672,-36\"/>\n<text text-anchor=\"middle\" x=\"630\" y=\"-14.3\" font-family=\"Times,serif\" font-size=\"14.00\">NET1910</text>\n</g>\n<!-- NET3010 -->\n<g id=\"node56\" class=\"node\">\n<title>NET3010</title>\n<polygon fill=\"none\" stroke=\"black\" points=\"831.83,-624 754.41,-606 831.83,-588 909.25,-606 831.83,-624\"/>\n<text text-anchor=\"middle\" x=\"831.83\" y=\"-602.3\" font-family=\"Times,serif\" font-size=\"14.00\">NET3010</text>\n</g>\n<!-- NET2010&#45;&#45;NET3010 -->\n<g id=\"edge43\" class=\"edge\">\n<title>NET2010&#45;&#45;NET3010</title>\n<path fill=\"none\" stroke=\"black\" d=\"M797.61,-650.66C804.72,-641.38 813.27,-630.22 820.05,-621.37\"/>\n</g>\n<!-- NET3020 -->\n<g id=\"node57\" class=\"node\">\n<title>NET3020</title>\n<polygon fill=\"none\" stroke=\"black\" points=\"853.99,-726.86 776.57,-708.86 853.99,-690.86 931.41,-708.86 853.99,-726.86\"/>\n<text text-anchor=\"middle\" x=\"853.99\" y=\"-705.16\" font-family=\"Times,serif\" font-size=\"14.00\">NET3020</text>\n</g>\n<!-- NET2010&#45;&#45;NET3020 -->\n<g id=\"edge44\" class=\"edge\">\n<title>NET2010&#45;&#45;NET3020</title>\n<path fill=\"none\" stroke=\"black\" d=\"M815.54,-686.97C820.92,-690.04 826.4,-693.16 831.48,-696.05\"/>\n</g>\n<!-- NET3030 -->\n<g id=\"node58\" class=\"node\">\n<title>NET3030</title>\n<polygon fill=\"none\" stroke=\"black\" points=\"735.41,-749.75 657.99,-731.75 735.41,-713.75 812.82,-731.75 735.41,-749.75\"/>\n<text text-anchor=\"middle\" x=\"735.41\" y=\"-728.05\" font-family=\"Times,serif\" font-size=\"14.00\">NET3030</text>\n</g>\n<!-- NET2010&#45;&#45;NET3030 -->\n<g id=\"edge45\" class=\"edge\">\n<title>NET2010&#45;&#45;NET3030</title>\n<path fill=\"none\" stroke=\"black\" d=\"M769.72,-687.03C762.59,-696.32 754.01,-707.5 747.21,-716.36\"/>\n</g>\n<!-- NET2020 -->\n<g id=\"node46\" class=\"node\">\n<title>NET2020</title>\n<polygon fill=\"none\" stroke=\"black\" points=\"798,-36 714,-36 714,0 798,0 798,-36\"/>\n<text text-anchor=\"middle\" x=\"756\" y=\"-14.3\" font-family=\"Times,serif\" font-size=\"14.00\">NET2020</text>\n</g>\n<!-- NET2030 -->\n<g id=\"node47\" class=\"node\">\n<title>NET2030</title>\n<polygon fill=\"none\" stroke=\"black\" points=\"701.86,-139.93 617.86,-139.93 617.86,-103.93 701.86,-103.93 701.86,-139.93\"/>\n<text text-anchor=\"middle\" x=\"659.86\" y=\"-118.23\" font-family=\"Times,serif\" font-size=\"14.00\">NET2030</text>\n</g>\n<!-- NET3050 -->\n<g id=\"node60\" class=\"node\">\n<title>NET3050</title>\n<polygon fill=\"none\" stroke=\"black\" points=\"665.21,-223.46 587.79,-205.46 665.21,-187.46 742.63,-205.46 665.21,-223.46\"/>\n<text text-anchor=\"middle\" x=\"665.21\" y=\"-201.76\" font-family=\"Times,serif\" font-size=\"14.00\">NET3050</text>\n</g>\n<!-- NET2030&#45;&#45;NET3050 -->\n<g id=\"edge47\" class=\"edge\">\n<title>NET2030&#45;&#45;NET3050</title>\n<path fill=\"none\" stroke=\"black\" d=\"M661.02,-140.06C661.92,-154.17 663.17,-173.64 664.07,-187.66\"/>\n</g>\n<!-- NET3060 -->\n<g id=\"node61\" class=\"node\">\n<title>NET3060</title>\n<polygon fill=\"none\" stroke=\"black\" points=\"666.73,-198.7 589.31,-180.7 666.73,-162.7 744.15,-180.7 666.73,-198.7\"/>\n<text text-anchor=\"middle\" x=\"666.73\" y=\"-177\" font-family=\"Times,serif\" font-size=\"14.00\">NET3060</text>\n</g>\n<!-- NET2030&#45;&#45;NET3060 -->\n<g id=\"edge52\" class=\"edge\">\n<title>NET2030&#45;&#45;NET3060</title>\n<path fill=\"none\" stroke=\"black\" d=\"M661.99,-140.21C662.84,-147.48 663.82,-155.83 664.66,-163.04\"/>\n</g>\n<!-- NET3070 -->\n<g id=\"node62\" class=\"node\">\n<title>NET3070</title>\n<polygon fill=\"none\" stroke=\"black\" points=\"765.1,-152.78 687.68,-134.78 765.1,-116.78 842.52,-134.78 765.1,-152.78\"/>\n<text text-anchor=\"middle\" x=\"765.1\" y=\"-131.08\" font-family=\"Times,serif\" font-size=\"14.00\">NET3070</text>\n</g>\n<!-- NET2030&#45;&#45;NET3070 -->\n<g id=\"edge57\" class=\"edge\">\n<title>NET2030&#45;&#45;NET3070</title>\n<path fill=\"none\" stroke=\"black\" d=\"M702.06,-127.09C706.06,-127.57 710.15,-128.07 714.22,-128.57\"/>\n</g>\n<!-- NET3080 -->\n<g id=\"node63\" class=\"node\">\n<title>NET3080</title>\n<polygon fill=\"none\" stroke=\"black\" points=\"707.15,-177.51 629.73,-159.51 707.15,-141.51 784.57,-159.51 707.15,-177.51\"/>\n<text text-anchor=\"middle\" x=\"707.15\" y=\"-155.81\" font-family=\"Times,serif\" font-size=\"14.00\">NET3080</text>\n</g>\n<!-- NET2030&#45;&#45;NET3080 -->\n<g id=\"edge62\" class=\"edge\">\n<title>NET2030&#45;&#45;NET3080</title>\n<path fill=\"none\" stroke=\"black\" d=\"M682.67,-140.06C684.94,-141.86 687.22,-143.67 689.42,-145.42\"/>\n</g>\n<!-- NET3090 -->\n<g id=\"node64\" class=\"node\">\n<title>NET3090</title>\n<polygon fill=\"none\" stroke=\"black\" points=\"741.26,-145.89 663.84,-127.89 741.26,-109.89 818.68,-127.89 741.26,-145.89\"/>\n<text text-anchor=\"middle\" x=\"741.26\" y=\"-124.19\" font-family=\"Times,serif\" font-size=\"14.00\">NET3090</text>\n</g>\n<!-- NET2030&#45;&#45;NET3090 -->\n<g id=\"edge67\" class=\"edge\">\n<title>NET2030&#45;&#45;NET3090</title>\n<path fill=\"none\" stroke=\"black\" d=\"M701.99,-125.02C702.14,-125.03 702.3,-125.04 702.45,-125.05\"/>\n</g>\n<!-- NET2040 -->\n<g id=\"node48\" class=\"node\">\n<title>NET2040</title>\n<polygon fill=\"none\" stroke=\"black\" points=\"806.37,-208.44 722.37,-208.44 722.37,-172.44 806.37,-172.44 806.37,-208.44\"/>\n<text text-anchor=\"middle\" x=\"764.37\" y=\"-186.74\" font-family=\"Times,serif\" font-size=\"14.00\">NET2040</text>\n</g>\n<!-- NET2040&#45;&#45;NET3050 -->\n<g id=\"edge48\" class=\"edge\">\n<title>NET2040&#45;&#45;NET3050</title>\n<path fill=\"none\" stroke=\"black\" d=\"M722.32,-196.81C718.94,-197.32 715.51,-197.84 712.1,-198.36\"/>\n</g>\n<!-- NET2040&#45;&#45;NET3060 -->\n<g id=\"edge53\" class=\"edge\">\n<title>NET2040&#45;&#45;NET3060</title>\n<path fill=\"none\" stroke=\"black\" d=\"M722.11,-186.23C721.8,-186.19 721.49,-186.16 721.18,-186.13\"/>\n</g>\n<!-- NET2040&#45;&#45;NET3070 -->\n<g id=\"edge58\" class=\"edge\">\n<title>NET2040&#45;&#45;NET3070</title>\n<path fill=\"none\" stroke=\"black\" d=\"M764.61,-172.21C764.69,-166 764.78,-159.06 764.86,-152.86\"/>\n</g>\n<!-- NET2040&#45;&#45;NET3080 -->\n<g id=\"edge63\" class=\"edge\">\n<title>NET2040&#45;&#45;NET3080</title>\n<path fill=\"none\" stroke=\"black\" d=\"M730.75,-172.27C730.65,-172.22 730.56,-172.16 730.46,-172.11\"/>\n</g>\n<!-- NET2040&#45;&#45;NET3090 -->\n<g id=\"edge68\" class=\"edge\">\n<title>NET2040&#45;&#45;NET3090</title>\n<path fill=\"none\" stroke=\"black\" d=\"M757.68,-172.35C754.49,-163.69 750.68,-153.38 747.53,-144.87\"/>\n</g>\n<!-- NET2050 -->\n<g id=\"node49\" class=\"node\">\n<title>NET2050</title>\n<polygon fill=\"none\" stroke=\"black\" points=\"730.24,-120 646.24,-120 646.24,-84 730.24,-84 730.24,-120\"/>\n<text text-anchor=\"middle\" x=\"688.24\" y=\"-98.3\" font-family=\"Times,serif\" font-size=\"14.00\">NET2050</text>\n</g>\n<!-- NET2050&#45;&#45;NET3050 -->\n<g id=\"edge49\" class=\"edge\">\n<title>NET2050&#45;&#45;NET3050</title>\n<path fill=\"none\" stroke=\"black\" d=\"M684.23,-120.02C679.95,-139.24 673.22,-169.46 669.02,-188.33\"/>\n</g>\n<!-- NET2050&#45;&#45;NET3060 -->\n<g id=\"edge54\" class=\"edge\">\n<title>NET2050&#45;&#45;NET3060</title>\n<path fill=\"none\" stroke=\"black\" d=\"M683.25,-120.25C679.68,-133.33 674.89,-150.82 671.4,-163.62\"/>\n</g>\n<!-- NET2050&#45;&#45;NET3070 -->\n<g id=\"edge59\" class=\"edge\">\n<title>NET2050&#45;&#45;NET3070</title>\n<path fill=\"none\" stroke=\"black\" d=\"M730.27,-119.92C732.79,-121 735.29,-122.07 737.73,-123.11\"/>\n</g>\n<!-- NET2050&#45;&#45;NET3080 -->\n<g id=\"edge64\" class=\"edge\">\n<title>NET2050&#45;&#45;NET3080</title>\n<path fill=\"none\" stroke=\"black\" d=\"M694.22,-120.2C696.56,-127.3 699.22,-135.41 701.53,-142.41\"/>\n</g>\n<!-- NET2050&#45;&#45;NET3090 -->\n<g id=\"edge69\" class=\"edge\">\n<title>NET2050&#45;&#45;NET3090</title>\n<path fill=\"none\" stroke=\"black\" d=\"M725.35,-120.12C725.49,-120.19 725.63,-120.26 725.77,-120.33\"/>\n</g>\n<!-- NET2060 -->\n<g id=\"node50\" class=\"node\">\n<title>NET2060</title>\n<polygon fill=\"none\" stroke=\"black\" points=\"760.11,-241.49 676.11,-241.49 676.11,-205.49 760.11,-205.49 760.11,-241.49\"/>\n<text text-anchor=\"middle\" x=\"718.11\" y=\"-219.79\" font-family=\"Times,serif\" font-size=\"14.00\">NET2060</text>\n</g>\n<!-- NET2060&#45;&#45;NET3050 -->\n<g id=\"edge50\" class=\"edge\">\n<title>NET2060&#45;&#45;NET3050</title>\n<path fill=\"none\" stroke=\"black\" d=\"M675.91,-209.11C675.82,-209.08 675.72,-209.04 675.62,-209.01\"/>\n</g>\n<!-- NET2060&#45;&#45;NET3060 -->\n<g id=\"edge55\" class=\"edge\">\n<title>NET2060&#45;&#45;NET3060</title>\n<path fill=\"none\" stroke=\"black\" d=\"M696.32,-205.34C692.16,-201.88 687.87,-198.3 683.88,-194.98\"/>\n</g>\n<!-- NET2060&#45;&#45;NET3070 -->\n<g id=\"edge60\" class=\"edge\">\n<title>NET2060&#45;&#45;NET3070</title>\n<path fill=\"none\" stroke=\"black\" d=\"M727.85,-205.11C736.29,-189.17 748.39,-166.33 756.48,-151.05\"/>\n</g>\n<!-- NET2060&#45;&#45;NET3080 -->\n<g id=\"edge65\" class=\"edge\">\n<title>NET2060&#45;&#45;NET3080</title>\n<path fill=\"none\" stroke=\"black\" d=\"M715,-205.33C713.48,-196.46 711.66,-185.84 710.15,-177.06\"/>\n</g>\n<!-- NET2060&#45;&#45;NET3090 -->\n<g id=\"edge70\" class=\"edge\">\n<title>NET2060&#45;&#45;NET3090</title>\n<path fill=\"none\" stroke=\"black\" d=\"M722.57,-205.06C726.78,-187.69 733.03,-161.89 737.12,-144.98\"/>\n</g>\n<!-- NET2070 -->\n<g id=\"node51\" class=\"node\">\n<title>NET2070</title>\n<polygon fill=\"none\" stroke=\"black\" points=\"786.71,-229.74 702.71,-229.74 702.71,-193.74 786.71,-193.74 786.71,-229.74\"/>\n<text text-anchor=\"middle\" x=\"744.71\" y=\"-208.04\" font-family=\"Times,serif\" font-size=\"14.00\">NET2070</text>\n</g>\n<!-- NET2070&#45;&#45;NET3050 -->\n<g id=\"edge51\" class=\"edge\">\n<title>NET2070&#45;&#45;NET3050</title>\n<path fill=\"none\" stroke=\"black\" d=\"M702.63,-208.42C702.48,-208.4 702.34,-208.39 702.19,-208.38\"/>\n</g>\n<!-- NET2070&#45;&#45;NET3060 -->\n<g id=\"edge56\" class=\"edge\">\n<title>NET2070&#45;&#45;NET3060</title>\n<path fill=\"none\" stroke=\"black\" d=\"M702.53,-194.95C700.09,-193.98 697.66,-193.01 695.29,-192.07\"/>\n</g>\n<!-- NET2070&#45;&#45;NET3070 -->\n<g id=\"edge61\" class=\"edge\">\n<title>NET2070&#45;&#45;NET3070</title>\n<path fill=\"none\" stroke=\"black\" d=\"M749.55,-193.5C752.89,-180.88 757.31,-164.19 760.58,-151.83\"/>\n</g>\n<!-- NET2070&#45;&#45;NET3080 -->\n<g id=\"edge66\" class=\"edge\">\n<title>NET2070&#45;&#45;NET3080</title>\n<path fill=\"none\" stroke=\"black\" d=\"M731.58,-193.47C727.26,-187.47 722.5,-180.86 718.35,-175.08\"/>\n</g>\n<!-- NET2070&#45;&#45;NET3090 -->\n<g id=\"edge71\" class=\"edge\">\n<title>NET2070&#45;&#45;NET3090</title>\n<path fill=\"none\" stroke=\"black\" d=\"M743.96,-193.54C743.38,-179.38 742.58,-159.84 742,-145.76\"/>\n</g>\n<!-- NET2080 -->\n<g id=\"node52\" class=\"node\">\n<title>NET2080</title>\n<polygon fill=\"none\" stroke=\"black\" points=\"294,-792 210,-792 210,-756 294,-756 294,-792\"/>\n<text text-anchor=\"middle\" x=\"252\" y=\"-770.3\" font-family=\"Times,serif\" font-size=\"14.00\">NET2080</text>\n</g>\n<!-- NET2110 -->\n<g id=\"node53\" class=\"node\">\n<title>NET2110</title>\n<polygon fill=\"none\" stroke=\"black\" points=\"735,-403.64 651,-403.64 651,-367.64 735,-367.64 735,-403.64\"/>\n<text text-anchor=\"middle\" x=\"693\" y=\"-381.94\" font-family=\"Times,serif\" font-size=\"14.00\">NET2110</text>\n</g>\n<!-- NET3110 -->\n<g id=\"node66\" class=\"node\">\n<title>NET3110</title>\n<polygon fill=\"none\" stroke=\"black\" points=\"764.21,-393 686.79,-375 764.21,-357 841.63,-375 764.21,-393\"/>\n<text text-anchor=\"middle\" x=\"764.21\" y=\"-371.3\" font-family=\"Times,serif\" font-size=\"14.00\">NET3110</text>\n</g>\n<!-- NET2110&#45;&#45;NET3110 -->\n<g id=\"edge72\" class=\"edge\">\n<title>NET2110&#45;&#45;NET3110</title>\n<path fill=\"none\" stroke=\"black\" d=\"M735.25,-379.33C735.37,-379.31 735.49,-379.29 735.61,-379.27\"/>\n</g>\n<!-- NET2910 -->\n<g id=\"node54\" class=\"node\">\n<title>NET2910</title>\n<polygon fill=\"none\" stroke=\"black\" points=\"168,-792 84,-792 84,-756 168,-756 168,-792\"/>\n<text text-anchor=\"middle\" x=\"126\" y=\"-770.3\" font-family=\"Times,serif\" font-size=\"14.00\">NET2910</text>\n</g>\n<!-- NET2920 -->\n<g id=\"node55\" class=\"node\">\n<title>NET2920</title>\n<polygon fill=\"none\" stroke=\"black\" points=\"84,-309 0,-309 0,-273 84,-273 84,-309\"/>\n<text text-anchor=\"middle\" x=\"42\" y=\"-287.3\" font-family=\"Times,serif\" font-size=\"14.00\">NET2920</text>\n</g>\n<!-- NET3040 -->\n<g id=\"node59\" class=\"node\">\n<title>NET3040</title>\n<polygon fill=\"none\" stroke=\"black\" points=\"686.21,-805.43 608.79,-787.43 686.21,-769.43 763.63,-787.43 686.21,-805.43\"/>\n<text text-anchor=\"middle\" x=\"686.21\" y=\"-783.73\" font-family=\"Times,serif\" font-size=\"14.00\">NET3040</text>\n</g>\n<!-- NET3030&#45;&#45;NET3040 -->\n<g id=\"edge46\" class=\"edge\">\n<title>NET3030&#45;&#45;NET3040</title>\n<path fill=\"none\" stroke=\"black\" d=\"M721.96,-746.96C715.02,-754.82 706.58,-764.38 699.64,-772.23\"/>\n</g>\n<!-- NET3100 -->\n<g id=\"node65\" class=\"node\">\n<title>NET3100</title>\n<polygon fill=\"none\" stroke=\"black\" points=\"476.21,-78 398.79,-60 476.21,-42 553.63,-60 476.21,-78\"/>\n<text text-anchor=\"middle\" x=\"476.21\" y=\"-56.3\" font-family=\"Times,serif\" font-size=\"14.00\">NET3100</text>\n</g>\n<!-- NET3910 -->\n<g id=\"node67\" class=\"node\">\n<title>NET3910</title>\n<polygon fill=\"none\" stroke=\"black\" points=\"140.21,-624 62.79,-606 140.21,-588 217.63,-606 140.21,-624\"/>\n<text text-anchor=\"middle\" x=\"140.21\" y=\"-602.3\" font-family=\"Times,serif\" font-size=\"14.00\">NET3910</text>\n</g>\n<!-- NET3920 -->\n<g id=\"node68\" class=\"node\">\n<title>NET3920</title>\n<polygon fill=\"none\" stroke=\"black\" points=\"140.21,-540 62.79,-522 140.21,-504 217.63,-522 140.21,-540\"/>\n<text text-anchor=\"middle\" x=\"140.21\" y=\"-518.3\" font-family=\"Times,serif\" font-size=\"14.00\">NET3920</text>\n</g>\n<!-- DES1020 -->\n<g id=\"node69\" class=\"node\">\n<title>DES1020</title>\n<polygon fill=\"none\" stroke=\"black\" points=\"840,-298.64 756,-298.64 756,-262.64 840,-262.64 840,-298.64\"/>\n<text text-anchor=\"middle\" x=\"798\" y=\"-276.94\" font-family=\"Times,serif\" font-size=\"14.00\">DES1020</text>\n</g>\n<!-- DES1040 -->\n<g id=\"node70\" class=\"node\">\n<title>DES1040</title>\n<polygon fill=\"none\" stroke=\"black\" points=\"911.21,-288 827.21,-288 827.21,-252 911.21,-252 911.21,-288\"/>\n<text text-anchor=\"middle\" x=\"869.21\" y=\"-266.3\" font-family=\"Times,serif\" font-size=\"14.00\">DES1040</text>\n</g>\n<!-- DES1020&#45;&#45;DES1040 -->\n<g id=\"edge73\" class=\"edge\">\n<title>DES1020&#45;&#45;DES1040</title>\n<path fill=\"none\" stroke=\"black\" d=\"M840.25,-274.33C840.37,-274.31 840.49,-274.29 840.61,-274.27\"/>\n</g>\n</g>\n</svg>\n",
      "text/plain": [
       "<graphviz.graphs.Graph at 0x7f1cfb2e20e0>"
      ]
     },
     "execution_count": 46,
     "metadata": {},
     "output_type": "execute_result"
    }
   ],
   "source": [
    "#completed = ['CSE1010']\n",
    "completed = []\n",
    "\n",
    "import graphviz\n",
    "dot = graphviz.Graph()\n",
    "\n",
    "for row in df.itertuples():\n",
    "    course_number = row._3\n",
    "    if '950' not in course_number:\n",
    "        if course_number in completed:\n",
    "            color = 'red'\n",
    "        else:\n",
    "            color = 'black'\n",
    "        if course_number[3] == '3':\n",
    "            d = dot.node(course_number, shape='diamond',color=color)\n",
    "            #d.attr('node', color='blue')\n",
    "        else:\n",
    "            d = dot.node(course_number, shape='box',color=color)\n",
    "        \n",
    "        if row.Prerequisites != '':\n",
    "            for preq in row.Prerequisites.split(','):\n",
    "                dot.edge(preq, course_number)\n",
    "\n",
    "#dot.attr('graph', ratio='compress')\n",
    "#dot.attr('graph', ratio='0.5')\n",
    "#dot.attr('graph', size='80,80')\n",
    "#dot.attr('graph', ratio='1.5')\n",
    "#dot.attr('graph', layout='neato', defaultdist='2.0', overlap='false', splines='true', sep='+2.0', nodesep='0.5', ranksep='0.5', concentrate='true', size='8,8', ratio='0.5', orientation='landscape')\n",
    "dot.attr('graph', layout='neato', pack='false', defaultdist='800')\n",
    "#dot.attr('graph', orientation='landscape')\n",
    "dot"
   ]
  },
  {
   "cell_type": "code",
   "execution_count": null,
   "metadata": {},
   "outputs": [],
   "source": [
    "# a function that counts how many instances of each value are in a list\n",
    "def countValues(my_list):\n",
    "    for x in my_list:\n",
    "        "
   ]
  }
 ],
 "metadata": {
  "kernelspec": {
   "display_name": "Python 3",
   "language": "python",
   "name": "python3"
  },
  "language_info": {
   "codemirror_mode": {
    "name": "ipython",
    "version": 3
   },
   "file_extension": ".py",
   "mimetype": "text/x-python",
   "name": "python",
   "nbconvert_exporter": "python",
   "pygments_lexer": "ipython3",
   "version": "3.10.6"
  },
  "orig_nbformat": 4,
  "vscode": {
   "interpreter": {
    "hash": "916dbcbb3f70747c44a77c7bcd40155683ae19c65e1c03b4aa3499c5328201f1"
   }
  }
 },
 "nbformat": 4,
 "nbformat_minor": 2
}
