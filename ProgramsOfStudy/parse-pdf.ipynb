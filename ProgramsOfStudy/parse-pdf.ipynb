{
 "cells": [
  {
   "cell_type": "code",
   "execution_count": 5,
   "metadata": {},
   "outputs": [],
   "source": [
    "# importing required modules\n",
    "import PyPDF2\n",
    "\n",
    "# creating a pdf file object\n",
    "pdfFileObj = open('ComputingScienceSummaries.pdf', 'rb')\n",
    "  \n",
    "# creating a pdf reader object\n",
    "pdfReader = PyPDF2.PdfReader(pdfFileObj)\n",
    "  \n",
    "text = ''\n",
    "\n",
    "n_pages = len(pdfReader.pages)\n",
    "\n",
    "for n in range(n_pages):\n",
    "    pageObj = pdfReader.pages[n]\n",
    "    text += pageObj.extract_text()\n",
    "  \n",
    "# closing the pdf file object\n",
    "pdfFileObj.close()"
   ]
  },
  {
   "cell_type": "code",
   "execution_count": 20,
   "metadata": {},
   "outputs": [
    {
     "name": "stdout",
     "output_type": "stream",
     "text": [
      "CSE1010: COMPUTER SCIENCE 1\n",
      "\n",
      "CSE1110: STRUCTURED PROGRAMMING 1\n",
      "\n",
      "CSE1110: STRUCTURED PROGRAMMING 1\n",
      "CSE1110\n",
      "CSE1110: STRUCTURED PROGRAMMING 1\n",
      "\n",
      "CSE1220: CLIENT -SIDE SCRIPTING 2\n",
      "\n",
      "CSE1240: ROBOTICS PROGRAMMING 1\n",
      "CSE1110\n",
      "CSE1910: CSE PROJECT A\n",
      "\n",
      "CSE2010: COMPUTER SCIENCE 2\n",
      "CSE1010\n",
      "CSE2110: PROCEDURAL PROGRAMMING 1\n",
      "CSE1120\n",
      "CSE2110: PROCEDURAL PROGRAMMING 1\n",
      "CSE2110\n",
      "CSE2130: FILES & FILE STRUCTURES 1\n",
      "CSE2120\n",
      "CSE2140: SECOND LANGUAGE PROGRAMMING 1\n",
      "CSE2110\n",
      "CSE2210: CLIENT -SIDE SCRIPTING 3\n",
      "CSE1220\n",
      "CSE2240: ROBOTICS PROGRAMMING 2\n",
      "CSE1240\n",
      "CSE2240: ROBOTICS PROGRAMMING 2\n",
      "\n",
      "CSE2920: CSE PROJECT C\n",
      "\n",
      "CSE2950: CSE INTERMEDIATE PRACTICUM\n",
      "\n",
      "CSE3010: COMPUTER SCIENCE 3\n",
      "CSE2010\n",
      "CSE3020: COMPUTER SCIENCE 4\n",
      "CSE3010\n",
      "CSE3110: ITERATIVE ALGORITHM 1\n",
      "CSE2120\n",
      "CSE3120: OBJECT -ORIENTED PROGRAMMING 1\n",
      "CSE2110\n",
      "CSE3130: OBJECT -ORIENTED PROGRAMMING 2\n",
      "CSE3120\n",
      "CSE3140: SECOND LANGUAGE PROGRAMM ING 2\n",
      "CSE2210\n",
      "CSE3140: SECOND LANGUAGE PROGRAMM ING 2\n",
      "CSE2240\n",
      "CSE3310: RECURSIVE ALGORITHMS 1\n",
      "CSE3110\n",
      "CSE3320: DYNAMIC DATA STRUCTURES 1\n",
      "CSE3310\n",
      "CSE3340: DYNAMIC DATA STRUCTURES 3\n",
      "CSE3 330\n",
      "CSE3910: CSE PROJECT D\n",
      "\n",
      "CSE3920: CSE PROJECT E\n",
      "\n",
      "CSE3950: CSE ADVANCED PRACTICUM\n",
      "\n"
     ]
    }
   ],
   "source": [
    "courses = {}\n",
    "for line in text.splitlines():\n",
    "    if line.startswith('CSE'):\n",
    "        course = line.replace('  ', ' ').strip()\n",
    "        courses[course] = []\n",
    "    elif 'Prerequisite' in line:\n",
    "        preq = line.split(': ')[1]\n",
    "        if 'None' in preq:\n",
    "            preq = ''\n",
    "        preq = preq.strip()\n",
    "        print(course)\n",
    "        print(preq)"
   ]
  },
  {
   "cell_type": "code",
   "execution_count": 14,
   "metadata": {},
   "outputs": [],
   "source": []
  }
 ],
 "metadata": {
  "kernelspec": {
   "display_name": "Python 3",
   "language": "python",
   "name": "python3"
  },
  "language_info": {
   "codemirror_mode": {
    "name": "ipython",
    "version": 3
   },
   "file_extension": ".py",
   "mimetype": "text/x-python",
   "name": "python",
   "nbconvert_exporter": "python",
   "pygments_lexer": "ipython3",
   "version": "3.10.4"
  },
  "orig_nbformat": 4,
  "vscode": {
   "interpreter": {
    "hash": "aee8b7b246df8f9039afb4144a1f6fd8d2ca17a180786b69acc140d282b71a49"
   }
  }
 },
 "nbformat": 4,
 "nbformat_minor": 2
}
