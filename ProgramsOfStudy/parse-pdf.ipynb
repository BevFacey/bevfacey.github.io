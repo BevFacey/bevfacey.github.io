{
 "cells": [
  {
   "attachments": {},
   "cell_type": "markdown",
   "metadata": {},
   "source": [
    "# Parse CSE File to Get Course List"
   ]
  },
  {
   "cell_type": "code",
   "execution_count": null,
   "metadata": {},
   "outputs": [],
   "source": [
    "import PyPDF2\n",
    "import pandas as pd\n",
    "\n",
    "course_type = 'CSE'\n",
    "pdfFileObj = open('ComputingScienceSummaries.pdf', 'rb')\n",
    "pdfReader = PyPDF2.PdfReader(pdfFileObj)\n",
    "  \n",
    "n_pages = len(pdfReader.pages)\n",
    "text = ''\n",
    "\n",
    "for n in range(n_pages):\n",
    "    pageObj = pdfReader.pages[n]\n",
    "    text += pageObj.extract_text()\n",
    "\n",
    "pdfFileObj.close()\n",
    "\n",
    "courses = {}\n",
    "use_next_line = False\n",
    "\n",
    "for i, line in enumerate(text.splitlines()):\n",
    "    if line.strip().startswith(course_type) and line[9] == ' ':\n",
    "        course = line.replace('  ', ' ').strip()\n",
    "    if '©' in line and course_type in line:\n",
    "        # 100 © Alberta Education, Alberta, Canada   Revised 2010  CSE2910:  CSE PROJECT B  \n",
    "        course = course_type + line.split(course_type)[1]\n",
    "        course = course.replace('  ', ' ').strip()\n",
    "    if 'Prerequ' in line:\n",
    "        preq = line.split(': ')[1].strip().replace(' ', '')\n",
    "        if 'None' in preq:\n",
    "            preq = ''\n",
    "        courses[course] = [preq]\n",
    "    if use_next_line:\n",
    "        #print('True', line)\n",
    "        preq2 = line.split(': ')[0].strip().replace(' ', '')\n",
    "        if len(preq2) != 0: # in case there is no prereq on this line\n",
    "            preq = preq + ',' + preq2\n",
    "        courses[course] = [preq]\n",
    "        use_next_line = False\n",
    "    if 'Prerequisites' in line:\n",
    "        #print('use next line', line)\n",
    "        #print(i, course, preq, '---', line)\n",
    "        use_next_line = True\n",
    "    #if '1120' in line:\n",
    "    #if '1010' in line:\n",
    "    #    print(i, use_next_line, line)\n",
    "df = pd.DataFrame.from_dict(courses, orient='index', columns=['Prerequisites']).reset_index()\n",
    "df.columns = ['Course', 'Prerequisites']\n",
    "df"
   ]
  },
  {
   "cell_type": "code",
   "execution_count": null,
   "metadata": {},
   "outputs": [],
   "source": [
    "for i, line in enumerate(text.splitlines()):\n",
    "    if '©' in line:\n",
    "        print(i, line)"
   ]
  },
  {
   "cell_type": "code",
   "execution_count": null,
   "metadata": {},
   "outputs": [],
   "source": [
    "df[df['Prerequisites'].str.contains(course_type)]"
   ]
  },
  {
   "cell_type": "code",
   "execution_count": null,
   "metadata": {},
   "outputs": [],
   "source": [
    "df[df['Course'].str[3]=='3']"
   ]
  },
  {
   "cell_type": "code",
   "execution_count": null,
   "metadata": {},
   "outputs": [],
   "source": [
    "df.to_csv(course_type+'.csv', index=False)"
   ]
  },
  {
   "cell_type": "code",
   "execution_count": null,
   "metadata": {},
   "outputs": [],
   "source": [
    "import graphviz\n",
    "dot = graphviz.Digraph()\n",
    "\n",
    "for row in df.itertuples():\n",
    "    course_number = row.Course.split(':')[0]\n",
    "    if '950' not in course_number:\n",
    "        if course_number[3] == '3':\n",
    "            dot.node(course_number, shape='diamond')\n",
    "        else:\n",
    "            dot.node(course_number, shape='box')\n",
    "        if row.Prerequisites != '':\n",
    "            for preq in row.Prerequisites.split(','):\n",
    "                dot.edge(preq, course_number)\n",
    "\n",
    "dot"
   ]
  },
  {
   "cell_type": "code",
   "execution_count": null,
   "metadata": {},
   "outputs": [],
   "source": [
    "# save the output to a file\n",
    "dot.render(course_type, view=True)\n",
    "import os\n",
    "# delete file\n",
    "os.remove(course_type)"
   ]
  },
  {
   "attachments": {},
   "cell_type": "markdown",
   "metadata": {},
   "source": [
    "# NET Courses"
   ]
  },
  {
   "cell_type": "code",
   "execution_count": null,
   "metadata": {},
   "outputs": [],
   "source": [
    "import PyPDF2\n",
    "import pandas as pd\n",
    "\n",
    "course_type = 'NET'\n",
    "pdfFileObj = open('NetworkingSummary.pdf', 'rb')\n",
    "\n",
    "pdfReader = PyPDF2.PdfReader(pdfFileObj)\n",
    "n_pages = len(pdfReader.pages)\n",
    "text = ''\n",
    "for n in range(n_pages):\n",
    "    pageObj = pdfReader.pages[n]\n",
    "    text += pageObj.extract_text()\n",
    "pdfFileObj.close()\n",
    "\n",
    "courses = {}\n",
    "use_next_line = False\n",
    "\n",
    "for i, line in enumerate(text.splitlines()):\n",
    "    if line.strip().startswith(course_type):# and line[9] == ' ':\n",
    "        course = line.replace('  ', ' ').strip()\n",
    "        use_next_line = False\n",
    "    if '©' in line and course_type in line and ':' in line:\n",
    "        course = line.split(':')[0].strip().split(' ')[-1] + ':' + line.split(':')[1].strip()\n",
    "        use_next_line = False\n",
    "    if 'Prerequ' in line:\n",
    "        try:\n",
    "            preq = line.split(':')[1].strip().replace(' ', '')\n",
    "        except:\n",
    "            preq = ''\n",
    "        if 'None' in preq:\n",
    "            preq = ''\n",
    "        courses[course] = [preq]\n",
    "    if use_next_line:\n",
    "        preq2 = line.split(': ')[0].strip().replace(' ', '')\n",
    "        if len(preq2) != 0: # in case there is no prereq on this line\n",
    "            preq = preq + ',' + preq2\n",
    "        courses[course] = [preq]\n",
    "    if 'Prerequisites' in line:\n",
    "        use_next_line = True\n",
    "df = pd.DataFrame.from_dict(courses, orient='index', columns=['Prerequisites']).reset_index()\n",
    "df.columns = ['Course', 'Prerequisites']\n",
    "df"
   ]
  },
  {
   "cell_type": "code",
   "execution_count": null,
   "metadata": {},
   "outputs": [],
   "source": [
    "df['Prerequisites'] = df['Prerequisites'].str.replace('NET2030','NET2030,NET2040,NET2050,NET2060,NET2070')"
   ]
  },
  {
   "cell_type": "code",
   "execution_count": null,
   "metadata": {},
   "outputs": [],
   "source": [
    "df[df['Prerequisites'].str.contains(course_type)]"
   ]
  },
  {
   "cell_type": "code",
   "execution_count": null,
   "metadata": {},
   "outputs": [],
   "source": [
    "df.to_csv(course_type+'.csv', index=False)"
   ]
  },
  {
   "cell_type": "code",
   "execution_count": null,
   "metadata": {},
   "outputs": [],
   "source": [
    "import graphviz\n",
    "dot = graphviz.Digraph()\n",
    "\n",
    "for row in df.itertuples():\n",
    "    course_number = row.Course.split(':')[0]\n",
    "    if '950' not in course_number:\n",
    "        if course_number[3] == '3':\n",
    "            dot.node(course_number, shape='diamond')\n",
    "        else:\n",
    "            dot.node(course_number, shape='box')\n",
    "        if row.Prerequisites != '':\n",
    "            for preq in row.Prerequisites.split(','):\n",
    "                dot.edge(preq, course_number)\n",
    "\n",
    "dot"
   ]
  },
  {
   "cell_type": "code",
   "execution_count": null,
   "metadata": {},
   "outputs": [],
   "source": [
    "# save the output to a file\n",
    "dot.render(course_type, view=True)\n",
    "import os\n",
    "# delete file\n",
    "os.remove(course_type)"
   ]
  },
  {
   "attachments": {},
   "cell_type": "markdown",
   "metadata": {},
   "source": [
    "# ELT Courses"
   ]
  },
  {
   "cell_type": "code",
   "execution_count": null,
   "metadata": {},
   "outputs": [],
   "source": [
    "import PyPDF2\n",
    "import pandas as pd\n",
    "\n",
    "course_type = 'ELT'\n",
    "pdfFileObj = open('ElectroTechnologiesSummaries.pdf', 'rb')\n",
    "\n",
    "pdfReader = PyPDF2.PdfReader(pdfFileObj)\n",
    "n_pages = len(pdfReader.pages)\n",
    "text = ''\n",
    "for n in range(n_pages):\n",
    "    pageObj = pdfReader.pages[n]\n",
    "    text += pageObj.extract_text()\n",
    "pdfFileObj.close()\n",
    "\n",
    "courses = {}\n",
    "use_next_line = False\n",
    "\n",
    "for i, line in enumerate(text.splitlines()):\n",
    "    if line.strip().startswith(course_type):# and line[9] == ' ':\n",
    "        course = line.replace('  ', ' ').strip()\n",
    "        use_next_line = False\n",
    "    if '©' in line and course_type in line and ':' in line:\n",
    "        course = line.split(':')[0].strip().split(' ')[-1] + ':' + line.split(':')[1].strip()\n",
    "        use_next_line = False\n",
    "    if 'Prerequ' in line:\n",
    "        try:\n",
    "            preq = line.split(':')[1].strip().replace(' ', '')\n",
    "        except:\n",
    "            preq = ''\n",
    "        if 'None' in preq:\n",
    "            preq = ''\n",
    "        courses[course] = [preq]\n",
    "    if use_next_line:\n",
    "        preq2 = line.split(': ')[0].strip().replace(' ', '')\n",
    "        if len(preq2) != 0: # in case there is no prereq on this line\n",
    "            preq = preq + ',' + preq2\n",
    "        courses[course] = [preq]\n",
    "    if 'Prerequisites' in line:\n",
    "        use_next_line = True\n",
    "df = pd.DataFrame.from_dict(courses, orient='index', columns=['Prerequisites']).reset_index()\n",
    "df.columns = ['Course', 'Prerequisites']\n",
    "df"
   ]
  },
  {
   "cell_type": "code",
   "execution_count": null,
   "metadata": {},
   "outputs": [],
   "source": [
    "df.to_csv(course_type+'.csv', index=False)"
   ]
  },
  {
   "cell_type": "code",
   "execution_count": null,
   "metadata": {},
   "outputs": [],
   "source": [
    "recommended = ['1010','1130','1140','2010','2140','2160','2240','2170','3170','3150','3180','3190','3200']\n",
    "\n",
    "import graphviz\n",
    "dot = graphviz.Digraph()\n",
    "\n",
    "for row in df.itertuples():\n",
    "    course_number = row.Course.split(':')[0]\n",
    "    if '950' not in course_number:\n",
    "        if course_number[3:] in recommended:\n",
    "            color = 'red'\n",
    "        else:\n",
    "            color = 'black'\n",
    "        if course_number[3] == '3':\n",
    "            d = dot.node(course_number, shape='diamond',color=color)\n",
    "            #d.attr('node', color='blue')\n",
    "        else:\n",
    "            d = dot.node(course_number, shape='box',color=color)\n",
    "        \n",
    "        if row.Prerequisites != '':\n",
    "            for preq in row.Prerequisites.split(','):\n",
    "                dot.edge(preq, course_number)\n",
    "\n",
    "dot"
   ]
  },
  {
   "cell_type": "code",
   "execution_count": null,
   "metadata": {},
   "outputs": [],
   "source": [
    "# save the output to a file\n",
    "dot.render(course_type, view=True)\n",
    "import os\n",
    "# delete file\n",
    "os.remove(course_type)"
   ]
  },
  {
   "attachments": {},
   "cell_type": "markdown",
   "metadata": {},
   "source": [
    "# Combining All Together"
   ]
  },
  {
   "cell_type": "code",
   "execution_count": null,
   "metadata": {},
   "outputs": [],
   "source": [
    "c = pd.read_csv('CSE.csv').fillna('')\n",
    "n = pd.read_csv('NET.csv').fillna('')\n",
    "\n",
    "e = pd.read_csv('ELT.csv').fillna('')\n",
    "# removed unused ELT courses\n",
    "recommended = ['1010','1130','1140','2010','2140','2160','2240','2170','3170','3150','3180','3190','3200']\n",
    "elt = ['ELT' + x for x in recommended]\n",
    "e = e[e['Course'].str[:7].isin(elt)]\n",
    "\n",
    "design_courses = {'DES1020: THE DESIGN PROCESS':'','DES1040: 3-D DESIGN 1':'DES1020'}\n",
    "d = pd.DataFrame.from_dict(design_courses, orient='index', columns=['Prerequisites']).reset_index()\n",
    "d.columns = ['Course', 'Prerequisites']\n",
    "\n",
    "df = pd.concat([c,e,n,d])\n",
    "df\n",
    "df"
   ]
  },
  {
   "attachments": {},
   "cell_type": "markdown",
   "metadata": {},
   "source": [
    "Split column to course code and course name"
   ]
  },
  {
   "cell_type": "code",
   "execution_count": null,
   "metadata": {},
   "outputs": [],
   "source": [
    "df['Course Number'] = df['Course'].str.split(':').str[0].str.strip()\n",
    "df['Course Name'] = df['Course'].str.split(':').str[1].str.strip()\n",
    "df"
   ]
  },
  {
   "cell_type": "code",
   "execution_count": null,
   "metadata": {},
   "outputs": [],
   "source": []
  },
  {
   "cell_type": "code",
   "execution_count": null,
   "metadata": {},
   "outputs": [],
   "source": []
  },
  {
   "cell_type": "code",
   "execution_count": null,
   "metadata": {},
   "outputs": [],
   "source": []
  },
  {
   "cell_type": "code",
   "execution_count": null,
   "metadata": {},
   "outputs": [],
   "source": [
    "completed = ['CSE1010']\n",
    "\n",
    "import graphviz\n",
    "dot = graphviz.Graph()\n",
    "\n",
    "for row in df.itertuples():\n",
    "    course_number = row._3\n",
    "    if '950' not in course_number:\n",
    "        if course_number in completed:\n",
    "            color = 'red'\n",
    "        else:\n",
    "            color = 'black'\n",
    "        if course_number[3] == '3':\n",
    "            d = dot.node(course_number, shape='diamond',color=color)\n",
    "            #d.attr('node', color='blue')\n",
    "        else:\n",
    "            d = dot.node(course_number, shape='box',color=color)\n",
    "        \n",
    "        if row.Prerequisites != '':\n",
    "            for preq in row.Prerequisites.split(','):\n",
    "                dot.edge(preq, course_number)\n",
    "\n",
    "dot"
   ]
  }
 ],
 "metadata": {
  "kernelspec": {
   "display_name": "Python 3",
   "language": "python",
   "name": "python3"
  },
  "language_info": {
   "codemirror_mode": {
    "name": "ipython",
    "version": 3
   },
   "file_extension": ".py",
   "mimetype": "text/x-python",
   "name": "python",
   "nbconvert_exporter": "python",
   "pygments_lexer": "ipython3",
   "version": "3.10.6"
  },
  "orig_nbformat": 4,
  "vscode": {
   "interpreter": {
    "hash": "916dbcbb3f70747c44a77c7bcd40155683ae19c65e1c03b4aa3499c5328201f1"
   }
  }
 },
 "nbformat": 4,
 "nbformat_minor": 2
}
