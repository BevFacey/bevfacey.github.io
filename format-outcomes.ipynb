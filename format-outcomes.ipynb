{
 "cells": [
  {
   "cell_type": "markdown",
   "metadata": {},
   "source": [
    "# Formatting Outcomes\n",
    "\n",
    "https://www.learnalberta.ca/ProgramOfStudy.aspx?lang=en&ProgramId=497576#574802\n",
    "\n",
    "https://www.learnalberta.ca/ProgramOfStudy.aspx?lang=en&ProgramId=800252#\n",
    "\n",
    "https://www.learnalberta.ca/ProgramOfStudy.aspx?lang=en&ProgramId=74838#"
   ]
  },
  {
   "cell_type": "markdown",
   "metadata": {},
   "source": [
    "Using the clipboard and Pypterclip:"
   ]
  },
  {
   "cell_type": "code",
   "execution_count": null,
   "metadata": {},
   "outputs": [],
   "source": [
    "import pyperclip as pc\n",
    "outcomes = pc.paste()\n",
    "contents = ''\n",
    "\n",
    "for line in outcomes.split('\\n'):\n",
    "    if len(line) > 1:\n",
    "        try:\n",
    "            if line[1] == '.' and line[2] == ' ': # main outcome\n",
    "                contents = contents + line\n",
    "            else:\n",
    "                if line[0] in 'abcdefghijklmnopqrstuvwxyzABCDEFGHIJKLMNOPQRSTUVWXYZ': # just a list item\n",
    "                    contents = contents + '    ' + line\n",
    "                elif line[3] == '.': # sub sub outcome\n",
    "                    reformatted_line = line[4] + '.' + line[5:]\n",
    "                    contents = contents + '        ' + reformatted_line\n",
    "                else: # sub outcome\n",
    "                    reformatted_line = line[2] + '.' + line[3:]\n",
    "                    contents = contents + '    ' +  reformatted_line\n",
    "            contents = contents + '\\n'\n",
    "        except:\n",
    "            contents = contents + line\n",
    "pc.copy(contents)\n",
    "print(contents)"
   ]
  },
  {
   "cell_type": "markdown",
   "metadata": {},
   "source": [
    "Paste the outcomes between the `'''` marks and run the cell to format it for markdown."
   ]
  },
  {
   "cell_type": "code",
   "execution_count": null,
   "metadata": {},
   "outputs": [],
   "source": [
    "outcomes = '''\n",
    "\n",
    "'''\n",
    "\n",
    "contents = ''\n",
    "for line in outcomes.split('\\n'):\n",
    "    if len(line) > 1:\n",
    "        try:\n",
    "            if line[1] == '.' and line[2] == ' ': # main outcome\n",
    "                contents = contents + line\n",
    "            else:\n",
    "                if line[3] == '.': # sub sub outcome\n",
    "                    reformatted_line = line[4] + '.' + line[5:]\n",
    "                    contents = contents + '        ' + reformatted_line\n",
    "                else: # sub outcome\n",
    "                    reformatted_line = line[2] + '.' + line[3:]\n",
    "                    contents = contents + '    ' +  reformatted_line\n",
    "            contents = contents + '\\n'\n",
    "        except:\n",
    "            contents = contents + line\n",
    "print(contents)"
   ]
  }
 ],
 "metadata": {
  "kernelspec": {
   "display_name": "Python 3",
   "language": "python",
   "name": "python3"
  },
  "language_info": {
   "codemirror_mode": {
    "name": "ipython",
    "version": 3
   },
   "file_extension": ".py",
   "mimetype": "text/x-python",
   "name": "python",
   "nbconvert_exporter": "python",
   "pygments_lexer": "ipython3",
   "version": "3.11.2"
  },
  "orig_nbformat": 4
 },
 "nbformat": 4,
 "nbformat_minor": 2
}
