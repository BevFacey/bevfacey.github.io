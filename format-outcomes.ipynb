{
 "cells": [
  {
   "cell_type": "markdown",
   "metadata": {},
   "source": [
    "# Formatting Outcomes\n",
    "\n",
    "Paste the outcomes between the `'''` marks and run the cell to format it for markdown."
   ]
  },
  {
   "cell_type": "code",
   "execution_count": null,
   "metadata": {},
   "outputs": [],
   "source": [
    "outcomes = '''\n",
    "1. identify and discuss the elements and principles of design\n",
    "1.1 define the elements of design\n",
    "1.2 identify the elements of design using examples\n",
    "1.3 describe the impact of each element on the visual message; e.g., line, shape (2D) or form (3D), colour, texture, depth (perspective), light, direction (motion), mass (visual weight), tone (black and white) or value (colour), space (positive and negative)\n",
    "1.4 define the principles of design\n",
    "1.5 identify the principles of design using examples\n",
    "1.6 describe the impact of each principle on the visual message; e.g., balance, emphasis, proportion (scale), repetition (rhythm/pattern), unity, contrast, harmony, proximity, variety\n",
    "2. discuss typography as it relates to the use of text in visual messages\n",
    "2.1 explore the meanings of common terms used in typography; e.g., capline, topline, midline, baseline, beardline, serif, san serif, ascender, descender, bowl, counter\n",
    "2.2 discuss the use of the elements and principles of design in purposeful text creation; e.g., attention-getting text versus readable text\n",
    "2.3 discuss the role of whitespace in the use of text\n",
    "3. produce visual compositions using a variety of media, e.g., print, photography, video, animation, where a number of elements and principles of design are used and have an identifiable impact on the intent of the message\n",
    "4. identify copyright restrictions and permissions and put them into practice\n",
    "5. present a selection of work completed in this course to an audience\n",
    "5.1 discuss work regarding:\n",
    "5.1.1 how the elements and principles of design help facilitate good composition in his or her work\n",
    "5.1.2 the technical and creative aspects of the work; e.g., quality, uniqueness\n",
    "5.1.3 areas of concern/difficulty (if applicable)\n",
    "5.1.4 meeting school and community standards; e.g., appropriate language\n",
    "5.2 add the selected work to a portfolio\n",
    "6. participate in a critique or an assessment of compositions created by others; e.g., classmates, professionals\n",
    "6.1 identify elements and principles used in the images\n",
    "6.2 comment on the impact of the elements and principles in the construction of the message\n",
    "7. apply consistent and appropriate work station routines\n",
    "7.1 demonstrate good health and safety practices; e.g., posture, positioning of hardware and furniture\n",
    "7.2 demonstrate security for hardware, software, supplies and personal work\n",
    "8. demonstrate basic competencies\n",
    "8.1 demonstrate fundamental skills to:\n",
    "8.1.1 communicate\n",
    "8.1.2 manage information\n",
    "8.1.3 use numbers\n",
    "8.1.4 think and solve problems\n",
    "8.2 demonstrate personal management skills to:\n",
    "8.2.1 demonstrate positive attitudes and behaviours\n",
    "8.2.2 be responsible\n",
    "8.2.3 be adaptable\n",
    "8.2.4 learn continuously\n",
    "8.2.5 work safely\n",
    "8.3 demonstrate teamwork skills to:\n",
    "8.3.1 work with others\n",
    "8.3.2 participate in projects and tasks\n",
    "9. make personal connections to the cluster content and processes to inform possible pathway choices\n",
    "9.1 complete/update a personal inventory; e.g., interests, values, beliefs, resources, prior learning and experiences\n",
    "9.2 create a connection between a personal inventory and occupational choices\n",
    "'''\n",
    "\n",
    "contents = ''\n",
    "for line in outcomes.split('\\n'):\n",
    "    if len(line) > 1:\n",
    "        try:\n",
    "            if line[1] == '.' and line[2] == ' ': # main outcome\n",
    "                contents = contents + line\n",
    "            else:\n",
    "                if line[3] == '.': # sub sub outcome\n",
    "                    reformatted_line = line[4] + '.' + line[5:]\n",
    "                    contents = contents + '        ' + reformatted_line\n",
    "                else: # sub outcome\n",
    "                    reformatted_line = line[2] + '.' + line[3:]\n",
    "                    contents = contents + '    ' +  reformatted_line\n",
    "            contents = contents + '\\n'\n",
    "        except:\n",
    "            contents = contents + line\n",
    "print(contents)"
   ]
  }
 ],
 "metadata": {
  "kernelspec": {
   "display_name": "Python 3",
   "language": "python",
   "name": "python3"
  },
  "language_info": {
   "codemirror_mode": {
    "name": "ipython",
    "version": 3
   },
   "file_extension": ".py",
   "mimetype": "text/x-python",
   "name": "python",
   "nbconvert_exporter": "python",
   "pygments_lexer": "ipython3",
   "version": "3.11.2"
  },
  "orig_nbformat": 4
 },
 "nbformat": 4,
 "nbformat_minor": 2
}
