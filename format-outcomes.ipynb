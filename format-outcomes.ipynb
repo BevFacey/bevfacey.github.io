{
 "cells": [
  {
   "cell_type": "markdown",
   "metadata": {},
   "source": [
    "# Formatting Outcomes\n",
    "\n",
    "https://www.learnalberta.ca/ProgramOfStudy.aspx?lang=en&ProgramId=497576#574802\n",
    "\n",
    "https://www.learnalberta.ca/ProgramOfStudy.aspx?lang=en&ProgramId=800252#\n",
    "\n",
    "https://www.learnalberta.ca/ProgramOfStudy.aspx?lang=en&ProgramId=74838#"
   ]
  },
  {
   "cell_type": "markdown",
   "metadata": {},
   "source": [
    "Using the clipboard and Pyperclip:"
   ]
  },
  {
   "cell_type": "code",
   "execution_count": null,
   "metadata": {},
   "outputs": [],
   "source": [
    "!pip install pyperclip"
   ]
  },
  {
   "cell_type": "code",
   "execution_count": null,
   "metadata": {},
   "outputs": [],
   "source": [
    "import pyperclip as pc\n",
    "outcomes = pc.paste()\n",
    "contents = ''\n",
    "\n",
    "for line in outcomes.split('\\n'):\n",
    "    if len(line) > 1:\n",
    "        try:\n",
    "            if line[1] == '.' and line[2] == ' ': # main outcome\n",
    "                contents = contents + line\n",
    "            else:\n",
    "                if line[0] in 'abcdefghijklmnopqrstuvwxyzABCDEFGHIJKLMNOPQRSTUVWXYZ': # just a list item\n",
    "                    contents = contents + '    ' + line\n",
    "                elif line[3] == '.': # sub sub outcome\n",
    "                    reformatted_line = line[4] + '.' + line[5:]\n",
    "                    contents = contents + '        ' + reformatted_line\n",
    "                else: # sub outcome\n",
    "                    reformatted_line = line[2] + '.' + line[3:]\n",
    "                    contents = contents + '    ' +  reformatted_line\n",
    "            contents = contents + '\\n'\n",
    "        except:\n",
    "            contents = contents + line\n",
    "pc.copy(contents)\n",
    "print(contents)"
   ]
  },
  {
   "cell_type": "markdown",
   "metadata": {},
   "source": [
    "Paste the outcomes between the `'''` marks and run the cell to format it for markdown."
   ]
  },
  {
   "cell_type": "code",
   "execution_count": null,
   "metadata": {},
   "outputs": [],
   "source": [
    "outcomes = '''\n",
    "\n",
    "'''\n",
    "\n",
    "contents = ''\n",
    "for line in outcomes.split('\\n'):\n",
    "    if len(line) > 1:\n",
    "        try:\n",
    "            if line[1] == '.' and line[2] == ' ': # main outcome\n",
    "                contents = contents + line\n",
    "            else:\n",
    "                if line[3] == '.': # sub sub outcome\n",
    "                    reformatted_line = line[4] + '.' + line[5:]\n",
    "                    contents = contents + '        ' + reformatted_line\n",
    "                else: # sub outcome\n",
    "                    reformatted_line = line[2] + '.' + line[3:]\n",
    "                    contents = contents + '    ' +  reformatted_line\n",
    "            contents = contents + '\\n'\n",
    "        except:\n",
    "            contents = contents + line\n",
    "print(contents)"
   ]
  },
  {
   "cell_type": "markdown",
   "metadata": {},
   "source": [
    "## Photo List Generator\n",
    "\n",
    "Requires a CSV with columns First Name and Last Name and Period, and 200x300 pixel student images in the format `last, first.jpeg`."
   ]
  },
  {
   "cell_type": "code",
   "execution_count": null,
   "metadata": {},
   "outputs": [],
   "source": [
    "import pandas as pd\n",
    "from PIL import Image, ImageDraw, ImageFont\n",
    "from math import ceil\n",
    "\n",
    "def make_image(student):\n",
    "    try:\n",
    "        student_img = Image.open(student+'.jpeg')\n",
    "    except:\n",
    "        student_img = Image.new('RGB', (200, 300), (255, 255, 255))\n",
    "    new_img = Image.new('RGB', (student_img.width, student_img.height+20), (255, 255, 255))\n",
    "    new_img.paste(student_img, (0, 0))\n",
    "    draw = ImageDraw.Draw(new_img)\n",
    "    font = ImageFont.truetype('arial.ttf', 18)\n",
    "    draw.text((1, 301), student, fill=(0, 0, 0), font=font)\n",
    "    return new_img\n",
    "\n",
    "def make_class_image(period):\n",
    "    classlist = df[df['Period']==period]['Last, First'].tolist()\n",
    "    img = Image.new('RGB', (202*5, 322*ceil(len(classlist)/5)), (255, 255, 255))\n",
    "    for i, student in enumerate(classlist):\n",
    "        new_img = make_image(student)\n",
    "        img.paste(new_img, (202*(i%5), 322*(i//5)))\n",
    "    padded_img = Image.new('RGB', (img.width, img.height+22), (255, 255, 255))\n",
    "    padded_img.paste(img, (0, 20))\n",
    "    draw = ImageDraw.Draw(padded_img)\n",
    "    draw.text((1, 1), 'Period '+str(period), fill=(0, 0, 0), font=ImageFont.truetype('arial.ttf', 18))\n",
    "    return padded_img\n",
    "\n",
    "df = pd.read_csv('Hay Classlists 2023-2024 - Semester1.csv')\n",
    "df['Last, First'] = df['Last Name'] + ', ' + df['First Name']\n",
    "df = df.sort_values('Last, First')\n",
    "\n",
    "for period in [3, 4]:\n",
    "    ci = make_class_image(period)\n",
    "    ci.save('period'+str(period)+'.png')"
   ]
  }
 ],
 "metadata": {
  "kernelspec": {
   "display_name": "Python 3",
   "language": "python",
   "name": "python3"
  },
  "language_info": {
   "codemirror_mode": {
    "name": "ipython",
    "version": 3
   },
   "file_extension": ".py",
   "mimetype": "text/x-python",
   "name": "python",
   "nbconvert_exporter": "python",
   "pygments_lexer": "ipython3",
   "version": "3.11.9"
  },
  "orig_nbformat": 4
 },
 "nbformat": 4,
 "nbformat_minor": 2
}
